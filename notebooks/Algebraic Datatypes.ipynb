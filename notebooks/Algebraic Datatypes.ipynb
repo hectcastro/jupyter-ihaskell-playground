{
 "cells": [
  {
   "cell_type": "markdown",
   "metadata": {},
   "source": [
    "## Exercises: Dog Types"
   ]
  },
  {
   "cell_type": "code",
   "execution_count": 3,
   "metadata": {
    "collapsed": true
   },
   "outputs": [],
   "source": [
    "data Doggies a = Husky a | Mastiff a deriving (Eq, Show)\n",
    "\n",
    "data DogueDeBordeaux doge = DogueDeBordeaux doge\n",
    "\n",
    "-- 1. Is Doggies a type constructor or a data constructor?\n",
    "\n",
    "-- Type constructor\n",
    "\n",
    "-- 2. What is the kind of Doggies?\n",
    "\n",
    "-- Doggies :: * -> *\n",
    "\n",
    "-- 3. What is the kind of Doggies String?\n",
    "\n",
    "-- Doggies String :: *\n",
    "\n",
    "-- 4. What is the type of Husky 10?\n",
    "\n",
    "-- Husky 10 :: Num a => Doggies a\n",
    "\n",
    "-- 5. What is the type of Husky (10 :: Integer)?\n",
    "\n",
    "-- Husky (10 :: Integer) :: Doggies Integer\n",
    "\n",
    "-- 6. What is the type of Mastiff \"Scooby Doo\"?\n",
    "\n",
    "-- Mastiff \"Scooby Doo\" :: Doggies [Char]\n",
    "\n",
    "-- 7. Is DogueDeBordeaux a type constructor or a data constructor?\n",
    "\n",
    "-- Both.\n",
    "\n",
    "-- 8. What is the type of DogueDeBordeaux?\n",
    "\n",
    "-- DogueDeBordeaux :: doge -> DogueDeBordeaux doge\n",
    "\n",
    "-- 9. What is the type of DogueDeBordeaux \"doggie!\"\n",
    "\n",
    "-- DogueDeBordeaux \"doggie!\" :: DogueDeBordeaux [Char]"
   ]
  },
  {
   "cell_type": "markdown",
   "metadata": {},
   "source": [
    "\n",
    "## Exercises: Vehicles"
   ]
  },
  {
   "cell_type": "code",
   "execution_count": 22,
   "metadata": {},
   "outputs": [
    {
     "data": {
      "text/plain": [
       "True"
      ]
     },
     "metadata": {},
     "output_type": "display_data"
    },
    {
     "data": {
      "text/plain": [
       "False"
      ]
     },
     "metadata": {},
     "output_type": "display_data"
    },
    {
     "data": {
      "text/plain": [
       "True"
      ]
     },
     "metadata": {},
     "output_type": "display_data"
    },
    {
     "data": {
      "text/plain": [
       "False"
      ]
     },
     "metadata": {},
     "output_type": "display_data"
    },
    {
     "data": {
      "text/plain": [
       "[True,True,False]"
      ]
     },
     "metadata": {},
     "output_type": "display_data"
    },
    {
     "data": {
      "text/plain": [
       "Mini"
      ]
     },
     "metadata": {},
     "output_type": "display_data"
    }
   ],
   "source": [
    "data Price = Price Integer deriving (Eq, Show)\n",
    "\n",
    "data Manufacturer = Mini | Mazda | Tata deriving (Eq, Show)\n",
    "\n",
    "data Airline = PapuAir | CatapultsR'Us | TakeYourChancesUnited deriving (Eq, Show)\n",
    "\n",
    "data Vehicle = Car Manufacturer Price | Plane Airline deriving (Eq, Show)\n",
    "\n",
    "myCar = Car Mini (Price 14000)\n",
    "urCar = Car Mazda (Price 20000)\n",
    "clownCar = Car Tata (Price 7000)\n",
    "doge = Plane PapuAir\n",
    "\n",
    "-- 1. What is the type of myCar?\n",
    "\n",
    "-- myCar :: Vehicle\n",
    "\n",
    "-- 2. Given the following, define the functions:\n",
    "\n",
    "isCar :: Vehicle -> Bool\n",
    "isCar (Car _ _) = True\n",
    "isCar _ = False\n",
    "\n",
    "isCar myCar\n",
    "isCar doge\n",
    "\n",
    "isPlane :: Vehicle -> Bool\n",
    "isPlane (Plane _) = True\n",
    "isPlane _ = False\n",
    "\n",
    "isPlane doge\n",
    "isPlane myCar\n",
    "\n",
    "areCars :: [Vehicle] -> [Bool]\n",
    "areCars [] = []\n",
    "areCars (x:xs) = isCar x : areCars xs\n",
    "\n",
    "areCars [myCar, urCar, doge]\n",
    "\n",
    "-- 3. Now we’re going to write a function to tell us the\n",
    "-- manufacturer of a piece of data:\n",
    "\n",
    "getManu :: Vehicle -> Manufacturer\n",
    "getManu (Car m _) = m\n",
    "\n",
    "getManu myCar\n",
    "\n",
    "-- 4. Given that we’re returning the Manufacturer, what\n",
    "-- will happen if you use this on Plane data?\n",
    "\n",
    "-- getManu doge\n",
    "-- Non-exhaustive patterns in function getManu\n",
    "\n",
    "-- 5. All right. Let’s say you’ve decided to add the\n",
    "-- size of the plane as an argument to the Plane\n",
    "-- constructor. Add that to your datatypes in the\n",
    "-- appropriate places and change your data and functions\n",
    "-- appropriately."
   ]
  },
  {
   "cell_type": "markdown",
   "metadata": {},
   "source": [
    "## Exercises: Cardinality"
   ]
  },
  {
   "cell_type": "code",
   "execution_count": null,
   "metadata": {
    "collapsed": true
   },
   "outputs": [],
   "source": [
    "-- 1. data PugType = PugData\n",
    "\n",
    "-- 1\n",
    "\n",
    "-- 2. For this one, recall that Bool is also defined\n",
    "-- with the |:\n",
    "\n",
    "data Airline = PapuAir | CatapultsR'Us | TakeYourChancesUnited\n",
    "\n",
    "-- 3\n",
    "\n",
    "-- 3. Given what we know about Int8, what’s the\n",
    "-- cardinality of Int16?\n",
    "\n",
    "-- 65,536\n",
    "\n",
    "-- 4. Use the REPL and maxBound and minBound to examine\n",
    "-- Int and Integer. What can you say about the cardinality\n",
    "-- of those types?\n",
    "\n",
    "-- Int is big, Integer is infinite\n",
    "\n",
    "-- 5. Extra credit (impress your friends!): What’s the\n",
    "-- connection between the 8 in Int8 and that type’s\n",
    "-- cardinality of 256?\n",
    "\n",
    "-- 2^8"
   ]
  },
  {
   "cell_type": "markdown",
   "metadata": {},
   "source": [
    "## Exercises: For Example"
   ]
  },
  {
   "cell_type": "code",
   "execution_count": 23,
   "metadata": {
    "collapsed": true
   },
   "outputs": [],
   "source": [
    "data Example = MakeExample deriving Show\n",
    "\n",
    "-- 1. You can query the type of a value in GHCi with the\n",
    "-- :type command, also abbreviated :t.\n",
    "\n",
    "-- Example:\n",
    "-- Prelude> :t False\n",
    "-- False :: Bool\n",
    "\n",
    "-- What is the type of data constructor MakeExample? What\n",
    "-- happens when you request the type of Example?\n",
    "\n",
    "-- Prelude> :t MakeExample\n",
    "-- MakeExample :: Example\n",
    "-- Prelude> :t Example\n",
    "-- Data constructor not in scope: Example\n",
    "\n",
    "-- 2. What if you try :info on Example in GHCi? Can you\n",
    "-- determine what typeclass instances are defined for the\n",
    "-- Example type using :info in GHCi?\n",
    "\n",
    "-- Show, Example\n",
    "\n",
    "-- 3. Try making a new datatype like Example but with a\n",
    "-- single type argument added to MakeExample, such as Int.\n",
    "-- What has changed when you query MakeExample with\n",
    "-- :type in GHCi?\n",
    "\n",
    "-- MakeExample :: Int -> Example"
   ]
  },
  {
   "cell_type": "markdown",
   "metadata": {},
   "source": [
    "## Exercises: Logic Goats"
   ]
  },
  {
   "cell_type": "code",
   "execution_count": 46,
   "metadata": {},
   "outputs": [
    {
     "data": {
      "text/plain": [
       "False"
      ]
     },
     "metadata": {},
     "output_type": "display_data"
    },
    {
     "data": {
      "text/plain": [
       "False"
      ]
     },
     "metadata": {},
     "output_type": "display_data"
    },
    {
     "data": {
      "text/plain": [
       "False"
      ]
     },
     "metadata": {},
     "output_type": "display_data"
    }
   ],
   "source": [
    "{-# LANGUAGE FlexibleInstances #-}\n",
    "\n",
    "class TooMany a where\n",
    "    tooMany :: a -> Bool\n",
    "\n",
    "instance TooMany Int where\n",
    "    tooMany n = n > 42\n",
    "\n",
    "-- 1. Reusing the TooMany typeclass, write an instance of\n",
    "-- the typeclass for the type (Int, String). This will\n",
    "-- require adding a language pragma named FlexibleInstances\n",
    "-- if you do not use a newtype — GHC will tell you what to do.\n",
    "\n",
    "instance TooMany (Int, String) where\n",
    "    tooMany (n, _) = tooMany n\n",
    "\n",
    "tooMany (40 :: Int, \"Joker\")\n",
    "\n",
    "-- 2. Make another TooMany instance for (Int, Int). Sum the\n",
    "-- values together under the assumption this is a count of\n",
    "-- goats from two fields.\n",
    "\n",
    "instance TooMany (Int, Int) where\n",
    "    tooMany (n1, n2) = tooMany $ n1 + n2\n",
    "\n",
    "tooMany (20 :: Int, 20 :: Int)\n",
    "\n",
    "-- 3. Make another TooMany instance, this time for (Num a,\n",
    "-- TooMany a) => (a, a). This can mean whatever you want,\n",
    "-- such as summing the two numbers together.\n",
    "\n",
    "instance (Num a, TooMany a) => TooMany (a, a) where\n",
    "    tooMany (n1, n2) = tooMany $ n1 + n2\n",
    "    \n",
    "tooMany (20 :: Int, 20 :: Int)"
   ]
  },
  {
   "cell_type": "markdown",
   "metadata": {},
   "source": [
    "## Exercises: Pity the Bool"
   ]
  },
  {
   "cell_type": "code",
   "execution_count": 51,
   "metadata": {},
   "outputs": [
    {
     "data": {
      "text/plain": [
       "Numba 126"
      ]
     },
     "metadata": {},
     "output_type": "display_data"
    }
   ],
   "source": [
    "-- 1. Given a datatype\n",
    "\n",
    "data BigSmall =\n",
    "    Big Bool\n",
    "    | Small Bool\n",
    "    deriving (Eq, Show)\n",
    "\n",
    "-- What is the cardinality of this datatype? Hint: We\n",
    "-- already know Bool’s cardinality. Show your work as\n",
    "-- demonstrated earlier.\n",
    "\n",
    "-- 4\n",
    "\n",
    "-- 2. Given a datatype\n",
    "\n",
    "import Data.Int\n",
    "\n",
    "data NumberOrBool =\n",
    "    Numba Int8\n",
    "    | BoolyBool Bool\n",
    "    deriving (Eq, Show)\n",
    "\n",
    "-- What is the cardinality of this datatype?\n",
    "\n",
    "-- 258\n",
    "\n",
    "Numba (-130)"
   ]
  },
  {
   "cell_type": "markdown",
   "metadata": {},
   "source": [
    "## Exercises: How Does Your Garden Grow?"
   ]
  },
  {
   "cell_type": "code",
   "execution_count": null,
   "metadata": {
    "collapsed": true
   },
   "outputs": [],
   "source": [
    "-- 1. Given the type\n",
    "\n",
    "data FlowerType = Gardenia\n",
    "                | Daisy\n",
    "                | Rose\n",
    "                | Lilac\n",
    "                deriving Show\n",
    "\n",
    "type Gardener = String\n",
    "\n",
    "data Garden =\n",
    "    Garden Gardener FlowerType\n",
    "    deriving Show\n",
    "\n",
    "-- What is the sum of products normal form of Garden?\n",
    "\n",
    "data GardenNF = Gardenia Gardener\n",
    "              | Daisy Gardener\n",
    "              | Rose Gardener\n",
    "              | Lilac Gardener\n",
    "              deriving Show"
   ]
  },
  {
   "cell_type": "markdown",
   "metadata": {},
   "source": [
    "## Chapter Exercises"
   ]
  },
  {
   "cell_type": "markdown",
   "metadata": {},
   "source": [
    "### Multiple Choice"
   ]
  },
  {
   "cell_type": "code",
   "execution_count": 5,
   "metadata": {},
   "outputs": [
    {
     "data": {
      "text/plain": [
       "'r'"
      ]
     },
     "metadata": {},
     "output_type": "display_data"
    }
   ],
   "source": [
    "-- 1. Given the following datatype:\n",
    "\n",
    "data Weekday = Monday | Tuesday | Wednesday | Thursday | Friday\n",
    "\n",
    "-- we can say:\n",
    "\n",
    "-- a) Weekday is a type with five data constructors\n",
    "\n",
    "-- 2. and with the same datatype definition in mind,\n",
    "-- what is the type of the following function, f?\n",
    "\n",
    "-- f Friday = \"Miller Time\"\n",
    "\n",
    "-- c) f :: Weekday -> String\n",
    "\n",
    "-- 3. Types defined with the data keyword\n",
    "\n",
    "-- b) must begin with a capital letter\n",
    "\n",
    "-- 4. The function g xs = xs !! (length xs - 1)\n",
    "\n",
    "g :: [a] -> a\n",
    "g xs = xs !! (length xs - 1)\n",
    "g \"Joker\"\n",
    "\n",
    "-- c) delivers the final element of xs"
   ]
  },
  {
   "cell_type": "markdown",
   "metadata": {},
   "source": [
    "### Ciphers"
   ]
  },
  {
   "cell_type": "code",
   "execution_count": 12,
   "metadata": {},
   "outputs": [
    {
     "data": {
      "text/plain": [
       "\"meet at dawn\""
      ]
     },
     "metadata": {},
     "output_type": "display_data"
    }
   ],
   "source": [
    "import Data.Char\n",
    "\n",
    "type Password = String\n",
    "type CipherText = String\n",
    "type PlainText = String\n",
    "\n",
    "caesarChar :: Int -> Char -> Char\n",
    "caesarChar shift char = chr $ ord char + shift\n",
    "\n",
    "encode :: Int -> String -> String\n",
    "encode shift = map (caesarChar shift)\n",
    "\n",
    "decode :: Int -> String -> String\n",
    "decode shift = map (caesarChar (-shift))\n",
    "\n",
    "encrypt :: Password -> PlainText -> CipherText\n",
    "encrypt p pt = map g f\n",
    "  where f             = zip (cycle p) pt\n",
    "        g (key, char) = caesarChar (ord key - ord 'A') char\n",
    "\n",
    "decrypt :: Password -> CipherText -> PlainText\n",
    "decrypt p ct = map g f\n",
    "  where f             = zip (cycle p) ct\n",
    "        g (key, char) = caesarChar (negate $ ord key - ord 'A') char\n",
    "        \n",
    "cipherText = encrypt \"ALLY\" \"meet at dawn\"\n",
    "decrypt \"ALLY\" cipherText"
   ]
  },
  {
   "cell_type": "markdown",
   "metadata": {},
   "source": [
    "### As-Patterns"
   ]
  },
  {
   "cell_type": "code",
   "execution_count": 51,
   "metadata": {},
   "outputs": [
    {
     "data": {
      "text/plain": [
       "True"
      ]
     },
     "metadata": {},
     "output_type": "display_data"
    },
    {
     "data": {
      "text/plain": [
       "False"
      ]
     },
     "metadata": {},
     "output_type": "display_data"
    },
    {
     "data": {
      "text/plain": [
       "[(\"hello\",\"Hello\"),(\"world\",\"World\")]"
      ]
     },
     "metadata": {},
     "output_type": "display_data"
    }
   ],
   "source": [
    "-- 1. This should return True if (and only if) all\n",
    "-- the values in the first list appear in the second\n",
    "-- list, though they need not be contiguous.\n",
    "\n",
    "import Data.List\n",
    "\n",
    "isSubseqOf :: (Eq a) => [a] -> [a] -> Bool\n",
    "isSubseqOf a b = isInfixOf a b\n",
    "\n",
    "isSubseqOf \"blah\" \"blahwoot\"\n",
    "isSubseqOf \"blah\" \"blawhoot\"\n",
    "\n",
    "-- 2. Split a sentence into words, then tuple each\n",
    "-- word with the capitalized form of each.\n",
    "\n",
    "capitalizeWords :: String -> [(String, String)]\n",
    "capitalizeWords xss = zip originals capitalized\n",
    "    where originals   = words xss\n",
    "          capitalized = map (\\(x:xs) -> toUpper x : xs) originals\n",
    "\n",
    "capitalizeWords \"hello world\""
   ]
  },
  {
   "cell_type": "markdown",
   "metadata": {},
   "source": [
    "### Hutton's Razor"
   ]
  },
  {
   "cell_type": "code",
   "execution_count": 54,
   "metadata": {},
   "outputs": [
    {
     "data": {
      "text/plain": [
       "9002"
      ]
     },
     "metadata": {},
     "output_type": "display_data"
    },
    {
     "data": {
      "text/plain": [
       "\"1 + 9001\""
      ]
     },
     "metadata": {},
     "output_type": "display_data"
    },
    {
     "data": {
      "text/plain": [
       "\"1 + 9001 + 1 + 20001\""
      ]
     },
     "metadata": {},
     "output_type": "display_data"
    }
   ],
   "source": [
    "-- 1. Your first task is to write the “eval” function which reduces an expression to a final sum.\n",
    "\n",
    "data Expr\n",
    "    = Lit Integer\n",
    "    | Add Expr Expr\n",
    "\n",
    "eval :: Expr -> Integer\n",
    "eval (Lit n)           = n\n",
    "eval (Add l r) = eval l + eval r\n",
    "\n",
    "eval (Add (Lit 1) (Lit 9001))\n",
    "\n",
    "-- 2. Write a printer for the expressions.\n",
    "\n",
    "printExpr :: Expr -> String\n",
    "printExpr (Lit n)           = show n\n",
    "printExpr (Add l r) = printExpr l ++ \" + \" ++ printExpr r\n",
    "\n",
    "printExpr (Add (Lit 1) (Lit 9001))\n",
    "\n",
    "a1 = Add (Lit 9001) (Lit 1)\n",
    "a2 = Add a1 (Lit 20001)\n",
    "a3 = Add (Lit 1) a2\n",
    "printExpr a3"
   ]
  },
  {
   "cell_type": "markdown",
   "metadata": {},
   "source": [
    "## Exercise: Programmers"
   ]
  },
  {
   "cell_type": "code",
   "execution_count": 2,
   "metadata": {},
   "outputs": [
    {
     "data": {
      "text/plain": [
       "16"
      ]
     },
     "metadata": {},
     "output_type": "display_data"
    },
    {
     "data": {
      "text/plain": [
       "16"
      ]
     },
     "metadata": {},
     "output_type": "display_data"
    }
   ],
   "source": [
    "data OperatingSystem =\n",
    "    GnuPlusLinux\n",
    "    | OpenBSDPlusNevermindJustBSDStill\n",
    "    | Mac\n",
    "    | Windows deriving (Eq, Show)\n",
    "\n",
    "data ProgLang =\n",
    "    Haskell\n",
    "    | Agda\n",
    "    | Idris\n",
    "    | PureScript deriving (Eq, Show)\n",
    "\n",
    "data Programmer =\n",
    "    Programmer { os :: OperatingSystem\n",
    "               , lang :: ProgLang }\n",
    "    deriving (Eq, Show)\n",
    "\n",
    "allOperatingSystems :: [OperatingSystem]\n",
    "allOperatingSystems = \n",
    "    [ GnuPlusLinux\n",
    "    , OpenBSDPlusNevermindJustBSDStill\n",
    "    , Mac\n",
    "    , Windows\n",
    "    ]\n",
    "\n",
    "allLanguages :: [ProgLang]\n",
    "allLanguages =\n",
    "    [ Haskell\n",
    "    , Agda\n",
    "    , Idris\n",
    "    , PureScript\n",
    "    ]\n",
    "\n",
    "allProgrammers :: [Programmer]\n",
    "allProgrammers = [Programmer x y | x <- allOperatingSystems, y <- allLanguages ]\n",
    "\n",
    "length allOperatingSystems * length allLanguages\n",
    "length allProgrammers"
   ]
  },
  {
   "cell_type": "markdown",
   "metadata": {},
   "source": [
    "## Exercises: The Quad"
   ]
  },
  {
   "cell_type": "code",
   "execution_count": 1,
   "metadata": {
    "collapsed": true
   },
   "outputs": [],
   "source": [
    "data Quad =\n",
    "    One\n",
    "    | Two\n",
    "    | Three\n",
    "    | Four\n",
    "    deriving (Eq, Show)\n",
    "\n",
    "-- 1. eQuad :: Either Quad Quad = 4 + 4 = 8\n",
    "-- 2. prodQuad :: (Quad, Quad) = 4 * 4 = 16\n",
    "-- 3. funcQuad :: Quad -> Quad = 4 ^ 4 = 256\n",
    "-- 4. prodTBool :: (Bool, Bool, Bool) = 2 * 2 * 2 = 8\n",
    "-- 5. gTwo :: Bool -> Bool -> Bool = 2 ^ 2 ^ 2 = 16\n",
    "-- 6. fTwo :: Bool -> Quad -> Quad = 4 ^ 4 ^ 2 = 65,536"
   ]
  },
  {
   "cell_type": "markdown",
   "metadata": {},
   "source": []
  },
  {
   "cell_type": "code",
   "execution_count": 31,
   "metadata": {},
   "outputs": [
    {
     "data": {
      "text/plain": [
       "\"yup okay!\""
      ]
     },
     "metadata": {},
     "output_type": "display_data"
    },
    {
     "data": {
      "text/plain": [
       "Preorder fine!"
      ]
     },
     "metadata": {},
     "output_type": "display_data"
    },
    {
     "data": {
      "text/plain": [
       "Inorder fine!"
      ]
     },
     "metadata": {},
     "output_type": "display_data"
    },
    {
     "data": {
      "text/plain": [
       "6"
      ]
     },
     "metadata": {},
     "output_type": "display_data"
    }
   ],
   "source": [
    "data BinaryTree a =\n",
    "    Leaf |\n",
    "    Node (BinaryTree a) a (BinaryTree a)\n",
    "    deriving (Eq, Ord, Show)\n",
    "\n",
    "-- insert' :: Ord a => a -> BinaryTree a -> BinaryTree a\n",
    "-- insert' b Leaf = Node Leaf b Leaf\n",
    "-- insert' b (Node left a right)\n",
    "--     | b == a = Node left a right\n",
    "--     | b < a = Node (insert' b left) a right\n",
    "--     | b > a = Node left a (insert' b right)\n",
    "\n",
    "mapTree :: (a -> b) -> BinaryTree a -> BinaryTree b\n",
    "mapTree _ Leaf = Leaf\n",
    "mapTree f (Node left a right) = Node (mapTree f left) (f a) (mapTree f right)\n",
    "\n",
    "testTree' :: BinaryTree Integer\n",
    "testTree' = Node (Node Leaf 3 Leaf)\n",
    "            1\n",
    "            (Node Leaf 4 Leaf)\n",
    "            \n",
    "mapExpected = Node (Node Leaf 4 Leaf)\n",
    "              2\n",
    "              (Node Leaf 5 Leaf)\n",
    "              \n",
    "mapOkay = if mapTree (+1) testTree' == mapExpected\n",
    "          then print \"yup okay!\"\n",
    "          else error \"test failed!\"\n",
    "          \n",
    "mapOkay\n",
    "\n",
    "preorder :: BinaryTree a -> [a]\n",
    "preorder Leaf = []\n",
    "preorder (Node left a right) = [a] ++ (preorder left) ++ (preorder right)\n",
    "\n",
    "inorder :: BinaryTree a -> [a]\n",
    "inorder Leaf = []\n",
    "inorder (Node left a right) = (inorder left) ++ [a] ++ (inorder right)\n",
    "\n",
    "postorder :: BinaryTree a -> [a]\n",
    "postorder Leaf = []\n",
    "postorder (Node left a right) = (postorder left) ++ (postorder right) ++ [a]\n",
    "\n",
    "testTree :: BinaryTree Integer\n",
    "testTree = Node (Node Leaf 1 Leaf) 2 (Node Leaf 3 Leaf)\n",
    "\n",
    "testPreorder :: IO ()\n",
    "testPreorder =\n",
    "    if preorder testTree == [2, 1, 3]\n",
    "    then putStrLn \"Preorder fine!\"\n",
    "    else putStrLn \"Bad news bears.\"\n",
    "\n",
    "testInorder :: IO ()\n",
    "testInorder =\n",
    "    if inorder testTree == [1, 2, 3]\n",
    "    then putStrLn \"Inorder fine!\"\n",
    "    else putStrLn \"Bad news bears.\"\n",
    "    \n",
    "testPreorder\n",
    "testInorder\n",
    "\n",
    "foldTree :: (a -> b -> b) -> b -> BinaryTree a -> b\n",
    "foldTree _ acc Leaf = acc\n",
    "foldTree f acc (Node left a right) = f a (foldTree f (foldTree f acc right) left)\n",
    "\n",
    "foldTree (+) 0 testTree"
   ]
  }
 ],
 "metadata": {
  "kernelspec": {
   "display_name": "Haskell",
   "language": "haskell",
   "name": "haskell"
  },
  "language_info": {
   "codemirror_mode": "ihaskell",
   "file_extension": ".hs",
   "name": "haskell",
   "version": "8.0.2"
  }
 },
 "nbformat": 4,
 "nbformat_minor": 2
}
