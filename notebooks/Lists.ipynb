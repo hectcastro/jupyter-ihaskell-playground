{
 "cells": [
  {
   "cell_type": "markdown",
   "metadata": {},
   "source": [
    "## Exercise: EnumFromTo\n",
    "\n",
    "Write your own `enumFromTo` deﬁnitions for the types pro-vided. Do not use range syntax to do so. It should return the same results as if you did [start..stop]."
   ]
  },
  {
   "cell_type": "code",
   "execution_count": 17,
   "metadata": {},
   "outputs": [],
   "source": [
    "eftBool :: Bool -> Bool -> [Bool]\n",
    "eftBool False False = [False]\n",
    "eftBool False True = [False, True]\n",
    "eftBool True False = []\n",
    "eftBool True True = [True]"
   ]
  },
  {
   "cell_type": "code",
   "execution_count": 27,
   "metadata": {},
   "outputs": [
    {
     "data": {
      "text/plain": [
       "[LT,EQ,GT]"
      ]
     },
     "metadata": {},
     "output_type": "display_data"
    },
    {
     "data": {
      "text/plain": [
       "[]"
      ]
     },
     "metadata": {},
     "output_type": "display_data"
    },
    {
     "data": {
      "text/plain": [
       "[GT]"
      ]
     },
     "metadata": {},
     "output_type": "display_data"
    }
   ],
   "source": [
    "eftOrd :: Ordering -> Ordering -> [Ordering]\n",
    "eftOrd x y\n",
    "  | x > y     = []\n",
    "  | x == y    = x : []\n",
    "  | otherwise = x : eftOrd (succ x) y\n",
    "\n",
    "eftOrd LT GT\n",
    "eftOrd GT LT\n",
    "eftOrd GT GT"
   ]
  },
  {
   "cell_type": "code",
   "execution_count": 21,
   "metadata": {},
   "outputs": [
    {
     "data": {
      "text/plain": [
       "[1,2,3,4]"
      ]
     },
     "metadata": {},
     "output_type": "display_data"
    },
    {
     "data": {
      "text/plain": [
       "[]"
      ]
     },
     "metadata": {},
     "output_type": "display_data"
    },
    {
     "data": {
      "text/plain": [
       "[4]"
      ]
     },
     "metadata": {},
     "output_type": "display_data"
    }
   ],
   "source": [
    "eftInt :: Int -> Int -> [Int]\n",
    "eftInt x y\n",
    "  | x > y     = []\n",
    "  | x == y    = x : []\n",
    "  | otherwise = x : eftInt (succ x) y\n",
    "\n",
    "eftInt 1 4\n",
    "eftInt 4 1\n",
    "eftInt 4 4"
   ]
  },
  {
   "cell_type": "code",
   "execution_count": 23,
   "metadata": {},
   "outputs": [
    {
     "data": {
      "text/plain": [
       "\"abcd\""
      ]
     },
     "metadata": {},
     "output_type": "display_data"
    },
    {
     "data": {
      "text/plain": [
       "\"\""
      ]
     },
     "metadata": {},
     "output_type": "display_data"
    },
    {
     "data": {
      "text/plain": [
       "\"a\""
      ]
     },
     "metadata": {},
     "output_type": "display_data"
    }
   ],
   "source": [
    "eftChar :: Char -> Char -> [Char]\n",
    "eftChar x y\n",
    "  | x > y     = []\n",
    "  | x == y    = x : []\n",
    "  | otherwise = x : eftChar (succ x) y\n",
    "  \n",
    "eftChar 'a' 'd'\n",
    "eftChar 'd' 'a'\n",
    "eftChar 'a' 'a'"
   ]
  },
  {
   "cell_type": "markdown",
   "metadata": {},
   "source": [
    "## Exercises: Thy Fearful Symmetry\n",
    "\n",
    "Using `takeWhile` and `dropWhile`, write a function that takes a string and returns a list of strings, using spaces to separate the elements of the string into words, as in the following sample:\n",
    "\n",
    "```haskell\n",
    "*Main> myWords \"all i wanna do is have some fun\" [\"all\",\"i\",\"wanna\",\"do\",\"is\",\"have\",\"some\",\"fun\"]\n",
    "```"
   ]
  },
  {
   "cell_type": "code",
   "execution_count": 7,
   "metadata": {},
   "outputs": [
    {
     "data": {
      "text/plain": [
       "[\"all\",\"i\",\"wanna\",\"do\",\"is\",\"have\",\"some\",\"fun\"]"
      ]
     },
     "metadata": {},
     "output_type": "display_data"
    }
   ],
   "source": [
    "myWords :: String -> [String]\n",
    "myWords \"\" = []\n",
    "myWords s = takeWhile (' ' /=) s : myWords (dropWhile (' ' ==) $ dropWhile (' ' /=) s)\n",
    "\n",
    "myWords \"all i wanna do is have some fun\""
   ]
  },
  {
   "cell_type": "markdown",
   "metadata": {},
   "source": [
    "Next, write a function that takes a string and returns a list of strings, using newline separators to break up the string as in the following (your job is to ﬁll in the undeﬁned function):"
   ]
  },
  {
   "cell_type": "code",
   "execution_count": 17,
   "metadata": {},
   "outputs": [
    {
     "data": {
      "text/plain": [
       "\"Are they equal? True\""
      ]
     },
     "metadata": {},
     "output_type": "display_data"
    }
   ],
   "source": [
    "import Data.List.Split\n",
    "\n",
    "firstSen = \"Tyger Tyger, burning bright\\n\"\n",
    "secondSen = \"In the forests of the night\\n\"\n",
    "thirdSen = \"What immortal hand or eye\\n\"\n",
    "fourthSen = \"Could frame thy fearful symmetry?\"\n",
    "sentences = firstSen ++ secondSen ++ thirdSen ++ fourthSen\n",
    "\n",
    "-- putStrLn sentences -- should print\n",
    "-- Tyger Tyger, burning bright\n",
    "-- In the forests of the night\n",
    "-- What immortal hand or eye\n",
    "-- Could frame thy fearful symmetry?\n",
    "\n",
    "-- Implement this\n",
    "-- split (=='a') \"aabbaca\" == [\"\",\"\",\"bb\",\"c\",\"\"]\n",
    "\n",
    "myLines :: String -> [String]\n",
    "myLines s = splitOn \"\\n\" s\n",
    "\n",
    "-- What we want 'myLines sentences' to equal\n",
    "shouldEqual =\n",
    "    [ \"Tyger Tyger, burning bright\"\n",
    "    , \"In the forests of the night\"\n",
    "    , \"What immortal hand or eye\"\n",
    "    , \"Could frame thy fearful symmetry?\"\n",
    "    ]\n",
    "\n",
    "-- The main function here is a small test\n",
    "-- to ensure you've written your function\n",
    "-- correctly.\n",
    "\n",
    "print $ \"Are they equal? \" ++ show (myLines sentences == shouldEqual)"
   ]
  },
  {
   "cell_type": "markdown",
   "metadata": {},
   "source": [
    "Now let’s look at what those two functions have in com-mon. Try writing a new function that parameterizes the character you’re breaking the string argument on and rewrite myWords and myLines using it."
   ]
  },
  {
   "cell_type": "code",
   "execution_count": 29,
   "metadata": {},
   "outputs": [
    {
     "data": {
      "text/plain": [
       "[\"all\",\"i\",\"wanna\",\"do\",\"is\",\"have\",\"some\",\"fun\"]"
      ]
     },
     "metadata": {},
     "output_type": "display_data"
    },
    {
     "data": {
      "text/plain": [
       "[\"Tyger Tyger, burning bright\",\"In the forests of the night\",\"What immortal hand or eye\",\"Could frame thy fearful symmetry?\"]"
      ]
     },
     "metadata": {},
     "output_type": "display_data"
    }
   ],
   "source": [
    "myWords' :: Char -> String -> [String]\n",
    "myWords' _ \"\" = []\n",
    "myWords' c s = takeWhile (c /=) s : myWords (dropWhile (c ==) $ dropWhile (c /=) s)\n",
    "\n",
    "myLines' :: Char -> String -> [String]\n",
    "myLines' c s = splitOn [c] s\n",
    "\n",
    "myWords' ' ' \"all i wanna do is have some fun\"\n",
    "myLines' '\\n' sentences"
   ]
  },
  {
   "cell_type": "markdown",
   "metadata": {},
   "source": [
    "## Exercises: Comprehend Thy Lists\n",
    "\n",
    "\n",
    "Take a look at the following functions, ﬁgure what you think the output lists will be, and then run them in your REPL to verify (note that you will need the `mySqr` list from above in scope to do this):"
   ]
  },
  {
   "cell_type": "code",
   "execution_count": 51,
   "metadata": {},
   "outputs": [
    {
     "data": {
      "text/plain": [
       "\"mySqr: [1,4,9,16,25]\""
      ]
     },
     "metadata": {},
     "output_type": "display_data"
    },
    {
     "data": {
      "text/plain": [
       "[4,16]"
      ]
     },
     "metadata": {},
     "output_type": "display_data"
    },
    {
     "data": {
      "text/plain": [
       "[]"
      ]
     },
     "metadata": {},
     "output_type": "display_data"
    },
    {
     "data": {
      "text/plain": [
       "[]"
      ]
     },
     "metadata": {},
     "output_type": "display_data"
    }
   ],
   "source": [
    "mySqr = [x^2 | x <- [1..5]]\n",
    "\n",
    "print $ \"mySqr: \" ++ show mySqr\n",
    "\n",
    "[x | x <- mySqr, rem x 2 == 0]\n",
    "\n",
    "[(x, y) | x <- mySqr, y <- mySqr, x < 50, y > 50]\n",
    "\n",
    "take 5 [ (x, y) | x <- mySqr , y <- mySqr\n",
    "       , x < 50, y > 50 ]"
   ]
  },
  {
   "cell_type": "markdown",
   "metadata": {},
   "source": [
    "## Exercises: Square Cube\n",
    "\n",
    "Given the following:\n",
    "\n",
    "```haskell\n",
    "Prelude> let mySqr = [x^2 | x <- [1..5]]\n",
    "Prelude> let myCube = [y^3 | y <- [1..5]]\n",
    "```\n",
    "\n",
    "1. First write an expression that will make tuples of the outputs of mySqr and myCube.\n",
    "\n",
    "2. Now alter that expression so that it only uses the x and y values that are less than 50.\n",
    "\n",
    "3. Apply another function to that list comprehension to determine how many tuples inhabit your output list."
   ]
  },
  {
   "cell_type": "code",
   "execution_count": 56,
   "metadata": {},
   "outputs": [
    {
     "data": {
      "text/plain": [
       "[(1,1),(1,8),(1,27),(1,64),(1,125),(4,1),(4,8),(4,27),(4,64),(4,125),(9,1),(9,8),(9,27),(9,64),(9,125),(16,1),(16,8),(16,27),(16,64),(16,125),(25,1),(25,8),(25,27),(25,64),(25,125)]"
      ]
     },
     "metadata": {},
     "output_type": "display_data"
    },
    {
     "data": {
      "text/plain": [
       "[(1,1),(1,8),(1,27),(4,1),(4,8),(4,27),(9,1),(9,8),(9,27),(16,1),(16,8),(16,27),(25,1),(25,8),(25,27)]"
      ]
     },
     "metadata": {},
     "output_type": "display_data"
    },
    {
     "data": {
      "text/plain": [
       "15"
      ]
     },
     "metadata": {},
     "output_type": "display_data"
    }
   ],
   "source": [
    "mySqr = [x^2 | x <- [1..5]]\n",
    "myCube = [y^3 | y <- [1..5]]\n",
    "\n",
    "[(x, y) | x <- mySqr, y <- myCube]\n",
    "\n",
    "[(x, y) | x <- mySqr, y <- myCube, x < 50 && y < 50]\n",
    "\n",
    "length [(x, y) | x <- mySqr, y <- myCube, x < 50 && y < 50]"
   ]
  },
  {
   "cell_type": "markdown",
   "metadata": {},
   "source": [
    "## Exercises: Bottom Madness\n",
    "\n",
    "Will it blow up?"
   ]
  },
  {
   "cell_type": "code",
   "execution_count": 70,
   "metadata": {},
   "outputs": [],
   "source": [
    "-- Yes, [x^y | x <- [1..5], y <- [2, undefined]]\n",
    "\n",
    "-- No, take 1 $ [x^y | x <- [1..5], y <- [2, undefined]]\n",
    "\n",
    "-- Yes, sum [1, undefined, 3]\n",
    "\n",
    "-- No, length [1, 2, undefined]\n",
    "\n",
    "-- Yes, length $ [1, 2, 3] ++ undefined\n",
    "\n",
    "-- No, take 1 $ filter even [1, 2, 3, undefined]\n",
    "\n",
    "-- Yes, take 1 $ filter even [1, 3, undefined]\n",
    "\n",
    "-- No, take 1 $ filter odd [1, 3, undefined]\n",
    "\n",
    "-- No, take 2 $ filter odd [1, 3, undefined]\n",
    "\n",
    "-- Yes, take 3 $ filter odd [1, 3, undefined]"
   ]
  },
  {
   "cell_type": "markdown",
   "metadata": {},
   "source": [
    "## Intermission: Is it in normal form?\n",
    "\n",
    "For each expression below, determine whether it’s in:\n",
    "\n",
    "1. normal form, which implies weak head normal form;\n",
    "\n",
    "2. weak head normal form only; or,\n",
    "\n",
    "3. neither.\n",
    "\n",
    "Remember that an expression cannot be in normal form or weak head normal form if the outermost part of the expression isn’t a data constructor. It can’t be in normal form if any part of the expression is unevaluated.\n",
    "\n",
    "1. [1, 2, 3, 4, 5]\n",
    "\n",
    "NF\n",
    "\n",
    "2. 1 : 2 : 3 : 4 : _\n",
    "\n",
    "WHNF\n",
    "\n",
    "3. enumFromTo 1 10\n",
    "\n",
    "Neither\n",
    "\n",
    "4. length [1, 2, 3, 4, 5]\n",
    "\n",
    "Neither\n",
    "\n",
    "5. sum (enumFromTo 1 10)\n",
    "\n",
    "Neither\n",
    "\n",
    "6. ['a'..'m'] ++ ['n'..'z']\n",
    "\n",
    "Neither\n",
    "\n",
    "7. (_, 'b')\n",
    "\n",
    "WHNF"
   ]
  },
  {
   "cell_type": "markdown",
   "metadata": {},
   "source": [
    "## Exercises: More Bottoms\n",
    "\n",
    "As always, we encourage you to try ﬁguring out the answers before you enter them into your REPL."
   ]
  },
  {
   "cell_type": "code",
   "execution_count": 92,
   "metadata": {},
   "outputs": [
    {
     "data": {
      "text/plain": [
       "[1,2,-3,4,5,6,7,8,9,10]"
      ]
     },
     "metadata": {},
     "output_type": "display_data"
    },
    {
     "data": {
      "text/plain": [
       "[1,2,-3,4,5,6,7,8,9,10]"
      ]
     },
     "metadata": {},
     "output_type": "display_data"
    }
   ],
   "source": [
    "-- 1. Will the following expression return a value or be ⊥?\n",
    "\n",
    "-- ⊥, take 1 $ map (+1) [undefined, 2, 3]\n",
    "\n",
    "-- 2. Will the following expression return a value?\n",
    "\n",
    "-- Yes, take 1 $ map (+1) [1, undefined, 3]\n",
    "\n",
    "-- 3. Will the following expression return a value?\n",
    "\n",
    "-- ⊥, take 2 $ map (+1) [1, undefined, 3]\n",
    "\n",
    "-- 4. What does the following mystery function do?\n",
    "-- What is its type? Describe it (to yourself or a loved one)\n",
    "-- in standard English and then test it out in the REPL to\n",
    "-- make sure you were correct.\n",
    "\n",
    "-- itIsMystery = map (`elem` \"aeiou\")\n",
    "-- itIsMystery \"joker\"\n",
    "\n",
    "-- 5. What will be the result of the following functions:\n",
    "\n",
    "-- map (^2) [1..10]\n",
    "\n",
    "-- map minimum [[1..10], [10..20], [20..30]]\n",
    "\n",
    "-- map sum [[1..5], [1..5], [1..5]]\n",
    "\n",
    "-- 6. Back in the Functions chapter, you wrote a function\n",
    "-- called foldBool. That function exists in a module known\n",
    "-- as Data.Bool and is called bool. Write a function that\n",
    "-- does the same (or similar, if you wish) as the map\n",
    "-- (if-then-else) function you saw above but uses bool\n",
    "-- instead of the if-then-else syntax. Your ﬁrst step should\n",
    "-- be bringing the bool function into scope by typing import\n",
    "-- Data.Bool at your Prelude prompt.\n",
    "\n",
    "import Data.Bool\n",
    "\n",
    "map (\\x -> if x == 3 then (-x) else x) [1..10]\n",
    "map (\\x -> bool x (-x) (x == 3)) [1..10]"
   ]
  },
  {
   "cell_type": "markdown",
   "metadata": {},
   "source": [
    "## Exercises: Filtering\n",
    "\n",
    "1. Given the above, how might we write a filter function that would give us all the multiples of 3 out of a list from 1-30?\n",
    "\n",
    "2. Recalling what we learned about function composition, how could we compose the above function with the length function to tell us *how many* multiples of 3 there are between 1 and 30?\n",
    "\n",
    "3. Next we’re going to work on removing all articles (’the’, ’a’, and ’an’) from sentences. You want to get to something that works like this:\n",
    "\n",
    "```haskell\n",
    "Prelude> myFilter \"the brown dog was a goof\"\n",
    "[\"brown\",\"dog\",\"was\",\"goof\"]\n",
    "```\n",
    "\n",
    "You may recall that earlier in this chapter we asked you to write a function that separates a string into a list of strings by separating them at spaces. That is a standard library function called `words`. You may consider starting this exercise by using `words` (or your version, of course)."
   ]
  },
  {
   "cell_type": "code",
   "execution_count": 165,
   "metadata": {},
   "outputs": [
    {
     "data": {
      "text/plain": [
       "[3,6,9,12,15,18,21,24,27,30]"
      ]
     },
     "metadata": {},
     "output_type": "display_data"
    },
    {
     "data": {
      "text/plain": [
       "10"
      ]
     },
     "metadata": {},
     "output_type": "display_data"
    },
    {
     "data": {
      "text/plain": [
       "[\"brown\",\"dog\",\"was\",\"goof\"]"
      ]
     },
     "metadata": {},
     "output_type": "display_data"
    }
   ],
   "source": [
    "-- 1.\n",
    "\n",
    "multOfThree = filter (\\x -> rem x 3 == 0)\n",
    "multOfThree [1..30]\n",
    "\n",
    "-- 2.\n",
    "\n",
    "length . multOfThree $ [1..30]\n",
    "\n",
    "-- 3.\n",
    "\n",
    "myFilter :: String -> [String]\n",
    "myFilter xs = filter (`notElem` articles) (words xs)\n",
    "    where articles = [\"the\", \"a\", \"an\"]\n",
    "\n",
    "myFilter \"the brown dog was a goof\""
   ]
  },
  {
   "cell_type": "markdown",
   "metadata": {},
   "source": [
    "## Zipping exercises\n",
    "\n",
    "1. Write your own version of zip :: [a] -> [b] -> [(a, b)] and ensure it behaves the same as the original.\n",
    "\n",
    "2. Do what you did for zip, but now for zipWith :: (a -> b -> c) -> [a] -> [b] -> [c]\n",
    "\n",
    "3. Rewrite your zip in terms of the zipWith you wrote."
   ]
  },
  {
   "cell_type": "code",
   "execution_count": 183,
   "metadata": {},
   "outputs": [
    {
     "data": {
      "text/plain": [
       "[(1,1),(2,2),(3,3)]"
      ]
     },
     "metadata": {},
     "output_type": "display_data"
    },
    {
     "data": {
      "text/plain": [
       "[10,8,34,9]"
      ]
     },
     "metadata": {},
     "output_type": "display_data"
    },
    {
     "data": {
      "text/plain": [
       "[(1,1),(2,2),(3,3)]"
      ]
     },
     "metadata": {},
     "output_type": "display_data"
    }
   ],
   "source": [
    "-- 1.\n",
    "\n",
    "zip' :: [a] -> [b] -> [(a,b)]\n",
    "zip' [] _ = []\n",
    "zip' _ [] = []\n",
    "zip' (a1:as) (b1:bs) = (a1,b1) : zip' as bs\n",
    "\n",
    "zip' [1,2,3] [1,2,3]\n",
    "\n",
    "-- 2.\n",
    "\n",
    "zipWith' :: (a -> b -> c) -> [a] -> [b] -> [c]\n",
    "zipWith' _ [] _ = []\n",
    "zipWith' _ _ [] = []\n",
    "zipWith' f (a1:as) (b1:bs) = f a1 b1 : zipWith' f as bs\n",
    "\n",
    "zipWith' max [10, 5, 34, 9] [6, 8, 12, 7]\n",
    "\n",
    "-- 3.\n",
    "\n",
    "zip'' :: [a] -> [b] -> [(a,b)]\n",
    "zip'' = zipWith' (,)\n",
    "\n",
    "\n",
    "zip'' [1,2,3] [1,2,3]"
   ]
  },
  {
   "cell_type": "markdown",
   "metadata": {},
   "source": [
    "## Chapter Exercises\n",
    "\n",
    "The ﬁrst set of exercises here will mostly be review but will also introduce you to some new things. The second set is more conceptually challenging but does not use any syntax or concepts we haven’t already studied. If you get stuck, it may help to flip back to a relevant section and review.\n",
    "\n",
    "### Data.Char\n",
    "\n",
    "These ﬁrst few exercises are straightforward but will introduce you to some new library functions and review some of what we’ve learned so far. Some of the functions we will use here are not standard in Prelude and so have to be imported from a module called `Data.Char`. You may do so in a source ﬁle (rec-ommended) or at the Prelude prompt with the same phrase: `import Data.Char` (write that at the top of your source ﬁle). This brings into scope a bunch of new standard functions we can play with that operate on Char and String types.\n",
    "\n",
    "1. Query the types of isUpper and toUpper.\n",
    "\n",
    "```haskell\n",
    "isUpper :: Char -> Bool\n",
    "toUpper :: Char -> Char\n",
    "```\n",
    "\n",
    "2. Given the following behaviors, which would we use to write a function that ﬁlters all the uppercase letters out of a `String`? Write that function such that, given the input “HbEfLrLxO,” your function will return “HELLO.”\n",
    "\n",
    "`isUpper`"
   ]
  },
  {
   "cell_type": "code",
   "execution_count": 16,
   "metadata": {},
   "outputs": [
    {
     "data": {
      "text/plain": [
       "\"Julie\""
      ]
     },
     "metadata": {},
     "output_type": "display_data"
    },
    {
     "data": {
      "text/plain": [
       "\"WOOT\""
      ]
     },
     "metadata": {},
     "output_type": "display_data"
    },
    {
     "data": {
      "text/plain": [
       "'J'"
      ]
     },
     "metadata": {},
     "output_type": "display_data"
    }
   ],
   "source": [
    "import Data.Char\n",
    "\n",
    "-- 3. Write a function that will capitalize the ﬁrst letter\n",
    "-- of a String and return the entire String. For example, if\n",
    "-- given the argument “julie,” it will return “Julie.”\n",
    "\n",
    "capFirst :: String -> String\n",
    "capFirst (x:xs) = toUpper x : xs\n",
    "\n",
    "capFirst \"julie\"\n",
    "\n",
    "-- 4. Now make a new version of that function that is recursive\n",
    "-- such that if you give it the input “woot” it will holler back\n",
    "-- at you “WOOT.” The type signature won’t change, but you will\n",
    "-- want to add a base case.\n",
    "\n",
    "capAll :: String -> String\n",
    "capAll [] = []\n",
    "capAll (x:xs) = toUpper x : capAll xs\n",
    "\n",
    "capAll \"woot\"\n",
    "\n",
    "-- 5. To do the ﬁnal exercise in this section, we’ll need another\n",
    "-- standard function for lists called head. Query the type of head\n",
    "-- and experiment with it to see what it does. Now write a function\n",
    "-- that will capitalize the ﬁrst letter of a String and return only\n",
    "-- that letter as the result.\n",
    "\n",
    "capHead :: String -> Char\n",
    "capHead xs = toUpper $ head xs\n",
    "\n",
    "capHead \"joker\""
   ]
  },
  {
   "cell_type": "markdown",
   "metadata": {},
   "source": [
    "### Ciphers\n",
    "\n",
    "We’ll still be using `Data.Char` for this next exercise. You should save these exercises in a module called `Cipher` because we’ll be coming back to them in later chapters. You’ll be writing a Caesar cipher for now, but we’ll suggest some variations on the basic program in later chapters.\n",
    "\n",
    "A Caesar cipher is a simple substitution cipher, in which each letter is replaced by the letter that is a ﬁxed number of places down the alphabet from it. You will ﬁnd variations on this all over the place — you can shift leftward or rightward, for any number of spaces. A rightward shift of 3 means that ’A’ will become ’D’ and ’B’ will become ’E,’ for example. If you did a leftward shift of 5, then ’a’ would become ’v’ and so forth.\n",
    "\n",
    "Your goal in this exercise is to write a basic Caesar cipher that shifts rightward. You can start by having the number of spaces to shift ﬁxed, but it’s more challenging to write a cipher that allows you to vary the number of shifts so that you can encode your secret messages diﬀerently each time.\n",
    "\n",
    "There are Caesar ciphers written in Haskell all over the internet, but to maximize the likelihood that you can write yours without peeking at those, we’ll provide a couple of tips. When yours is working the way you want it to, we would encourage you to then look around and compare your solution to others out there.\n",
    "\n",
    "You should include an unCaesar function that will decipher your text as well. In a later chapter, we will test it."
   ]
  },
  {
   "cell_type": "code",
   "execution_count": 2,
   "metadata": {},
   "outputs": [
    {
     "data": {
      "text/plain": [
       "\"joker\""
      ]
     },
     "metadata": {},
     "output_type": "display_data"
    }
   ],
   "source": [
    "import Data.List\n",
    "import Data.Maybe\n",
    "\n",
    "alphabet :: [Char]\n",
    "alphabet = ['a'..'z']\n",
    "\n",
    "shiftR :: Int -> Char -> Char\n",
    "shiftR n c\n",
    "    | (i + n) > overflow = alphabet !! (i + n - overflow)\n",
    "    | otherwise          = alphabet !! (i + n)\n",
    "    where i        = fromJust (elemIndex c alphabet)\n",
    "          overflow = length alphabet\n",
    "\n",
    "shiftL :: Int -> Char -> Char\n",
    "shiftL n c\n",
    "    | (i - n) < 0 = alphabet !! (overflow + (i - n))\n",
    "    | otherwise   = alphabet !! (i - n)\n",
    "    where i        = fromJust (elemIndex c alphabet)\n",
    "          overflow = length alphabet\n",
    "\n",
    "caesar :: String -> Int -> String\n",
    "caesar xs shift = map (shiftL shift) xs\n",
    "\n",
    "unCaesar :: String -> Int -> String\n",
    "unCaesar xs shift = map (shiftR shift) xs\n",
    "\n",
    "unCaesar (caesar \"joker\" 3) 3"
   ]
  },
  {
   "cell_type": "markdown",
   "metadata": {},
   "source": [
    "### Writing your own standard functions\n",
    "\n",
    "Below are the outlines of some standard functions. The goal here is to write your own versions of these to gain a deeper understanding of recursion over lists and how to make functions flexible enough to accept a variety of inputs. You could ﬁgure out how to look up the answers, but you won’t do that because you know you’d only be cheating yourself out of the knowledge. Right?\n",
    "\n",
    "Let’s look at an example of what we’re after here. The and 2 function can take a list of Bool values and returns True if and only if no values in the list are False. Here’s how you might write your own version of it:"
   ]
  },
  {
   "cell_type": "code",
   "execution_count": 33,
   "metadata": {},
   "outputs": [
    {
     "data": {
      "text/plain": [
       "True"
      ]
     },
     "metadata": {},
     "output_type": "display_data"
    },
    {
     "data": {
      "text/plain": [
       "False"
      ]
     },
     "metadata": {},
     "output_type": "display_data"
    },
    {
     "data": {
      "text/plain": [
       "False"
      ]
     },
     "metadata": {},
     "output_type": "display_data"
    },
    {
     "data": {
      "text/plain": [
       "True"
      ]
     },
     "metadata": {},
     "output_type": "display_data"
    },
    {
     "data": {
      "text/plain": [
       "True"
      ]
     },
     "metadata": {},
     "output_type": "display_data"
    },
    {
     "data": {
      "text/plain": [
       "False"
      ]
     },
     "metadata": {},
     "output_type": "display_data"
    },
    {
     "data": {
      "text/plain": [
       "\"halb\""
      ]
     },
     "metadata": {},
     "output_type": "display_data"
    },
    {
     "data": {
      "text/plain": [
       "[5,4,3,2,1]"
      ]
     },
     "metadata": {},
     "output_type": "display_data"
    },
    {
     "data": {
      "text/plain": [
       "[1,2]"
      ]
     },
     "metadata": {},
     "output_type": "display_data"
    },
    {
     "data": {
      "text/plain": [
       "[1,2,3]"
      ]
     },
     "metadata": {},
     "output_type": "display_data"
    },
    {
     "data": {
      "text/plain": [
       "\"WO 1 HOO WO 2 HOO WO 3 HOO \""
      ]
     },
     "metadata": {},
     "output_type": "display_data"
    },
    {
     "data": {
      "text/plain": [
       "[1,2]"
      ]
     },
     "metadata": {},
     "output_type": "display_data"
    },
    {
     "data": {
      "text/plain": [
       "9001"
      ]
     },
     "metadata": {},
     "output_type": "display_data"
    },
    {
     "data": {
      "text/plain": [
       "1"
      ]
     },
     "metadata": {},
     "output_type": "display_data"
    },
    {
     "data": {
      "text/plain": [
       "3"
      ]
     },
     "metadata": {},
     "output_type": "display_data"
    },
    {
     "data": {
      "text/plain": [
       "1"
      ]
     },
     "metadata": {},
     "output_type": "display_data"
    }
   ],
   "source": [
    "-- 1. myOr returns True if any Bool in the list is True.\n",
    "\n",
    "myOr :: [Bool] -> Bool\n",
    "myOr [] = False\n",
    "myOr (x:xs) = x || myOr xs\n",
    "\n",
    "myOr [True, False]\n",
    "myOr [False, False]\n",
    "\n",
    "-- 2. myAny returns True if a -> Bool applied to any of the values in the list returns True.\n",
    "\n",
    "myAny :: (a -> Bool) -> [a] -> Bool\n",
    "myAny _ [] = False\n",
    "myAny f (x:xs) = f x || myAny f xs\n",
    "\n",
    "myAny even [1, 3, 5]\n",
    "myAny odd [1, 3, 5]\n",
    "\n",
    "-- 3. After you write the recursive myElem, write another version that uses any.\n",
    "\n",
    "myElem :: Eq a => a -> [a] -> Bool\n",
    "myElem _ [] = False\n",
    "myElem a (x:xs)\n",
    "    | x == a    = True\n",
    "    | otherwise = myElem a xs\n",
    "\n",
    "myElem 1 [1..10] \n",
    "myElem 1 [2..10]\n",
    "\n",
    "-- 4. Implement myReverse.\n",
    "\n",
    "myReverse :: [a] -> [a]\n",
    "myReverse []     = []\n",
    "myReverse (x:xs) = myReverse xs ++ [x]\n",
    "\n",
    "myReverse \"blah\"\n",
    "myReverse [1..5]\n",
    "\n",
    "-- 5. squish flattens a list of lists into a list\n",
    "\n",
    "squish :: [[a]] -> [a]\n",
    "squish []       = []\n",
    "squish (xs:xss) = xs ++ squish xss\n",
    "\n",
    "squish [[1,2]]\n",
    "\n",
    "-- 6. squishMap maps a function over a list and concatenates the results.\n",
    "\n",
    "squishMap :: (a -> [b]) -> [a] -> [b]\n",
    "squishMap _ []     = []\n",
    "squishMap f (x:xs) = f x ++ squishMap f xs \n",
    "\n",
    "squishMap (\\x -> [1, x, 3]) [2]\n",
    "squishMap (\\x -> \"WO \"++[x]++\" HOO \") \"123\"\n",
    "\n",
    "-- 7. squishAgain flattens a list of lists into a list. This time\n",
    "-- re-use the squishMap function.\n",
    "\n",
    "squishAgain :: [[a]] -> [a]\n",
    "squishAgain = squishMap id\n",
    "\n",
    "squishAgain [[1,2]]\n",
    "\n",
    "-- 8. myMaximumBy takes a comparison function and a list and returns\n",
    "-- the greatest element of the list based on the last value that the\n",
    "-- comparison returned GT for. If you import maximumBy from Data.List,\n",
    "-- you’ll see the type is:\n",
    "\n",
    "-- Foldable t => (a -> a -> Ordering) -> t a -> a\n",
    "\n",
    "-- rather than\n",
    "\n",
    "-- (a -> a -> Ordering) -> [a] -> a\n",
    "\n",
    "import Data.Bool\n",
    "\n",
    "myMaximumBy :: (a -> a -> Ordering) -> [a] -> a\n",
    "myMaximumBy f (x:xs) = foldl g x xs\n",
    "    where g = (\\a acc -> bool acc a (f a acc == GT))\n",
    "\n",
    "xs = [1, 53, 9001, 10]\n",
    "myMaximumBy compare xs\n",
    "\n",
    "-- 9. myMinimumBy takes a comparison function and a list and returns\n",
    "-- the least element of the list based on the last value that the\n",
    "-- comparison returned LT for.\n",
    "\n",
    "myMinimumBy :: (a -> a -> Ordering) -> [a] -> a\n",
    "myMinimumBy f (x:xs) = foldl g x xs\n",
    "    where g = (\\a acc -> bool acc a (f a acc == LT))\n",
    "    \n",
    "myMinimumBy compare xs\n",
    "\n",
    "-- Using the myMinimumBy and myMaximumBy functions, write your own\n",
    "-- versions of maximum and minimum. If you have GHC 7.10 or newer,\n",
    "-- you’ll see a type constructor that wants a Foldable instance\n",
    "-- instead of a list as has been the case for many functions so\n",
    "-- far.\n",
    "\n",
    "myMaximum :: (Ord a) => [a] -> a\n",
    "myMaximum = myMaximumBy compare\n",
    "\n",
    "myMaximum [1,2,3]\n",
    "\n",
    "myMinimum :: (Ord a) => [a] -> a\n",
    "myMinimum = myMinimumBy compare\n",
    "\n",
    "myMinimum [1,2,3]"
   ]
  }
 ],
 "metadata": {
  "kernelspec": {
   "display_name": "Haskell",
   "language": "haskell",
   "name": "haskell"
  },
  "language_info": {
   "codemirror_mode": "ihaskell",
   "file_extension": ".hs",
   "name": "haskell",
   "version": "8.0.2"
  }
 },
 "nbformat": 4,
 "nbformat_minor": 2
}
