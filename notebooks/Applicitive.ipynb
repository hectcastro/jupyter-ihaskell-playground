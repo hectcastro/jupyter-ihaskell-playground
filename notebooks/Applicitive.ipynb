{
 "cells": [
  {
   "cell_type": "markdown",
   "metadata": {},
   "source": [
    "## Exercises: Lookups\n",
    "\n",
    "In the following exercises you will need to use the following terms to make the expressions typecheck:\n",
    "\n",
    "1. `pure`\n",
    "2. `(<$>)`\n",
    "3. `(<*>)`"
   ]
  },
  {
   "cell_type": "code",
   "execution_count": 27,
   "metadata": {},
   "outputs": [
    {
     "data": {
      "text/plain": [
       "Just 9"
      ]
     },
     "metadata": {},
     "output_type": "display_data"
    },
    {
     "data": {
      "text/plain": [
       "Just (6,5)"
      ]
     },
     "metadata": {},
     "output_type": "display_data"
    },
    {
     "data": {
      "text/plain": [
       "Just 3"
      ]
     },
     "metadata": {},
     "output_type": "display_data"
    }
   ],
   "source": [
    "-- 1.\n",
    "\n",
    "added :: Maybe Integer\n",
    "added = (+3) <$> (lookup 3 $ zip [1, 2, 3] [4, 5, 6])\n",
    "\n",
    "added\n",
    "\n",
    "-- 2.\n",
    "\n",
    "y :: Maybe Integer\n",
    "y = lookup 3 $ zip [1, 2, 3] [4, 5, 6]\n",
    "\n",
    "z :: Maybe Integer\n",
    "z = lookup 2 $ zip [1, 2, 3] [4, 5, 6]\n",
    "\n",
    "tupled :: Maybe (Integer, Integer)\n",
    "tupled = (,) <$> y <*> z\n",
    "\n",
    "tupled\n",
    "\n",
    "-- 3.\n",
    "\n",
    "import Data.List (elemIndex)\n",
    "\n",
    "x :: Maybe Int\n",
    "x = elemIndex 3 [1, 2, 3, 4, 5]\n",
    "\n",
    "y :: Maybe Int\n",
    "y = elemIndex 4 [1, 2, 3, 4, 5]\n",
    "\n",
    "max' :: Int -> Int -> Int\n",
    "max' = max\n",
    "\n",
    "maxed :: Maybe Int\n",
    "maxed = max' <$> x <*> y\n",
    "\n",
    "maxed\n",
    "\n",
    "-- 4.\n",
    "\n",
    "xs = [1, 2, 3]\n",
    "ys = [4, 5, 6]\n",
    "\n",
    "x :: Maybe Integer\n",
    "x = lookup 3 $ zip xs ys\n",
    "\n",
    "y :: Maybe Integer\n",
    "y = lookup 2 $ zip xs ys\n",
    "\n",
    "summed :: Maybe Integer\n",
    "summed = fmap sum $ (,) <$> x <*> y"
   ]
  },
  {
   "cell_type": "markdown",
   "metadata": {},
   "source": [
    "## Exercise: Identity Instance\n",
    "\n",
    "Write an `Applicative` instance for `Identity`."
   ]
  },
  {
   "cell_type": "code",
   "execution_count": 29,
   "metadata": {},
   "outputs": [],
   "source": [
    "newtype Identity a =\n",
    "    Identity a\n",
    "    deriving (Eq, Ord, Show)\n",
    "\n",
    "instance Functor Identity where\n",
    "    fmap f (Identity a) = Identity (f a)\n",
    "\n",
    "instance Applicative Identity where\n",
    "    pure = Identity\n",
    "    (<*>) (Identity f) (Identity a) = Identity (f a)"
   ]
  },
  {
   "cell_type": "markdown",
   "metadata": {},
   "source": [
    "## Exercise: Constant Instance\n",
    "\n",
    "Write an `Applicative` instance for `Constant`."
   ]
  },
  {
   "cell_type": "code",
   "execution_count": 31,
   "metadata": {},
   "outputs": [],
   "source": [
    "newtype Constant a b =\n",
    "    Constant { getConstant :: a }\n",
    "    deriving (Eq, Ord, Show)\n",
    "\n",
    "instance Functor (Constant a) where\n",
    "    fmap f (Constant b) = Constant b\n",
    "\n",
    "instance Monoid a => Applicative (Constant a) where\n",
    "    pure _ = Constant { getConstant = mempty }\n",
    "    (<*>) (Constant a) (Constant b) = Constant (mappend a b)"
   ]
  }
 ],
 "metadata": {
  "kernelspec": {
   "display_name": "Haskell",
   "language": "haskell",
   "name": "haskell"
  },
  "language_info": {
   "codemirror_mode": "ihaskell",
   "file_extension": ".hs",
   "name": "haskell",
   "version": "8.0.2"
  }
 },
 "nbformat": 4,
 "nbformat_minor": 2
}
