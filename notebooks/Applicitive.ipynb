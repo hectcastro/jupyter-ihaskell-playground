{
 "cells": [
  {
   "cell_type": "markdown",
   "metadata": {},
   "source": [
    "## Exercises: Lookups\n",
    "\n",
    "In the following exercises you will need to use the following terms to make the expressions typecheck:\n",
    "\n",
    "1. `pure`\n",
    "2. `(<$>)`\n",
    "3. `(<*>)`"
   ]
  },
  {
   "cell_type": "code",
   "execution_count": 27,
   "metadata": {},
   "outputs": [
    {
     "data": {
      "text/plain": [
       "Just 9"
      ]
     },
     "metadata": {},
     "output_type": "display_data"
    },
    {
     "data": {
      "text/plain": [
       "Just (6,5)"
      ]
     },
     "metadata": {},
     "output_type": "display_data"
    },
    {
     "data": {
      "text/plain": [
       "Just 3"
      ]
     },
     "metadata": {},
     "output_type": "display_data"
    }
   ],
   "source": [
    "-- 1.\n",
    "\n",
    "added :: Maybe Integer\n",
    "added = (+3) <$> (lookup 3 $ zip [1, 2, 3] [4, 5, 6])\n",
    "\n",
    "added\n",
    "\n",
    "-- 2.\n",
    "\n",
    "y :: Maybe Integer\n",
    "y = lookup 3 $ zip [1, 2, 3] [4, 5, 6]\n",
    "\n",
    "z :: Maybe Integer\n",
    "z = lookup 2 $ zip [1, 2, 3] [4, 5, 6]\n",
    "\n",
    "tupled :: Maybe (Integer, Integer)\n",
    "tupled = (,) <$> y <*> z\n",
    "\n",
    "tupled\n",
    "\n",
    "-- 3.\n",
    "\n",
    "import Data.List (elemIndex)\n",
    "\n",
    "x :: Maybe Int\n",
    "x = elemIndex 3 [1, 2, 3, 4, 5]\n",
    "\n",
    "y :: Maybe Int\n",
    "y = elemIndex 4 [1, 2, 3, 4, 5]\n",
    "\n",
    "max' :: Int -> Int -> Int\n",
    "max' = max\n",
    "\n",
    "maxed :: Maybe Int\n",
    "maxed = max' <$> x <*> y\n",
    "\n",
    "maxed\n",
    "\n",
    "-- 4.\n",
    "\n",
    "xs = [1, 2, 3]\n",
    "ys = [4, 5, 6]\n",
    "\n",
    "x :: Maybe Integer\n",
    "x = lookup 3 $ zip xs ys\n",
    "\n",
    "y :: Maybe Integer\n",
    "y = lookup 2 $ zip xs ys\n",
    "\n",
    "summed :: Maybe Integer\n",
    "summed = fmap sum $ (,) <$> x <*> y"
   ]
  },
  {
   "cell_type": "markdown",
   "metadata": {},
   "source": [
    "## Exercise: Identity Instance\n",
    "\n",
    "Write an `Applicative` instance for `Identity`."
   ]
  },
  {
   "cell_type": "code",
   "execution_count": 29,
   "metadata": {},
   "outputs": [],
   "source": [
    "newtype Identity a =\n",
    "    Identity a\n",
    "    deriving (Eq, Ord, Show)\n",
    "\n",
    "instance Functor Identity where\n",
    "    fmap f (Identity a) = Identity (f a)\n",
    "\n",
    "instance Applicative Identity where\n",
    "    pure = Identity\n",
    "    (<*>) (Identity f) (Identity a) = Identity (f a)"
   ]
  },
  {
   "cell_type": "markdown",
   "metadata": {},
   "source": [
    "## Exercise: Constant Instance\n",
    "\n",
    "Write an `Applicative` instance for `Constant`."
   ]
  },
  {
   "cell_type": "code",
   "execution_count": 31,
   "metadata": {},
   "outputs": [],
   "source": [
    "newtype Constant a b =\n",
    "    Constant { getConstant :: a }\n",
    "    deriving (Eq, Ord, Show)\n",
    "\n",
    "instance Functor (Constant a) where\n",
    "    fmap f (Constant b) = Constant b\n",
    "\n",
    "instance Monoid a => Applicative (Constant a) where\n",
    "    pure _ = Constant { getConstant = mempty }\n",
    "    (<*>) (Constant a) (Constant b) = Constant (mappend a b)"
   ]
  },
  {
   "cell_type": "markdown",
   "metadata": {},
   "source": [
    "## Exercise: Fixer Upper\n",
    "\n",
    "Given the function and values provided, use (`<$>`) from `Functor`, (`<*>`) and pure from the `Applicative` typeclass to fill in missing bits of the broken code to make it work."
   ]
  },
  {
   "cell_type": "code",
   "execution_count": 8,
   "metadata": {},
   "outputs": [
    {
     "data": {
      "text/plain": [
       "Just \"Hello\""
      ]
     },
     "metadata": {},
     "output_type": "display_data"
    },
    {
     "data": {
      "text/plain": [
       "Just (90,10,\"Tierness\",[1,2,3])"
      ]
     },
     "metadata": {},
     "output_type": "display_data"
    }
   ],
   "source": [
    "-- 1.\n",
    "\n",
    "const <$> Just \"Hello\" <*> Just \"World\"\n",
    "\n",
    "-- 2.\n",
    "\n",
    "(,,,) <$> Just 90 <*> Just 10 <*> Just \"Tierness\" <*> Just [1, 2, 3]"
   ]
  },
  {
   "cell_type": "markdown",
   "metadata": {},
   "source": [
    "## Exercise: List Applicative\n",
    "\n",
    "Implement the list `Applicative`. Writing a minimally complete `Applicative` instance calls for writing the definitions of both `pure` and `<*>`. We’re going to provide a hint as well. Use the `checkers` library to validate your `Applicative` instance."
   ]
  },
  {
   "cell_type": "code",
   "execution_count": 30,
   "metadata": {},
   "outputs": [
    {
     "data": {
      "text/plain": [
       "Cons 2 (Cons 3 (Cons 2 (Cons 4 Nil)))"
      ]
     },
     "metadata": {},
     "output_type": "display_data"
    },
    {
     "data": {
      "text/plain": [
       "Cons 1 (Cons 9 (Cons 2 (Cons 9 (Cons 3 (Cons 9 Nil)))))"
      ]
     },
     "metadata": {},
     "output_type": "display_data"
    }
   ],
   "source": [
    "data List a =\n",
    "    Nil\n",
    "    | Cons a (List a)\n",
    "    deriving (Eq, Show)\n",
    "\n",
    "append :: List a -> List a -> List a\n",
    "append Nil ys         = ys\n",
    "append (Cons x xs) ys =\n",
    "    Cons x $ xs `append` ys\n",
    "\n",
    "fold :: (a -> b -> b) -> b -> List a -> b\n",
    "fold _ b Nil        = b\n",
    "fold f b (Cons h t) = f h (fold f b t)\n",
    "\n",
    "concat' :: List (List a) -> List a\n",
    "concat' = fold append Nil\n",
    "\n",
    "flatMap :: (a -> List b) -> List a -> List b\n",
    "flatMap f as = concat' $ fmap f as\n",
    "\n",
    "instance Functor List where\n",
    "    fmap _ Nil         = Nil\n",
    "    fmap f (Cons x xs) =\n",
    "        Cons (f x) (fmap f xs)\n",
    "    \n",
    "instance Applicative List where\n",
    "    pure x               = Cons x Nil\n",
    "    (<*>) Nil _          = Nil\n",
    "    (<*>) _ Nil          = Nil\n",
    "    (<*>) (Cons f fs) xs =\n",
    "        append (fmap f xs) (fs <*> xs)\n",
    "    \n",
    "instance Applicative List where\n",
    "  pure x               = Cons x Nil\n",
    "  (<*>) Nil _          = Nil\n",
    "  (<*>) _ Nil          = Nil\n",
    "  (<*>) (Cons f fs) xs = append (fmap f xs) (fs <*> xs)\n",
    "\n",
    "--\n",
    "\n",
    "f = Cons (+1) (Cons (*2) Nil)\n",
    "v = Cons 1 (Cons 2 Nil)\n",
    "f <*> v\n",
    "\n",
    "toMyList = foldr Cons Nil\n",
    "xs = toMyList [1, 2, 3]\n",
    "c = Cons\n",
    "f x = x `c` (9 `c` Nil)\n",
    "flatMap f xs"
   ]
  }
 ],
 "metadata": {
  "kernelspec": {
   "display_name": "Haskell",
   "language": "haskell",
   "name": "haskell"
  },
  "language_info": {
   "codemirror_mode": "ihaskell",
   "file_extension": ".hs",
   "name": "haskell",
   "version": "8.0.2"
  }
 },
 "nbformat": 4,
 "nbformat_minor": 2
}
