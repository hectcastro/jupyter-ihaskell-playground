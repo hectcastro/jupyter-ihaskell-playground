{
 "cells": [
  {
   "cell_type": "markdown",
   "metadata": {},
   "source": [
    "# Signaling Adversity\n",
    "\n",
    "(_A chapter name after my heart._)"
   ]
  },
  {
   "cell_type": "markdown",
   "metadata": {},
   "source": [
    "## Nothing\n",
    "\n",
    "A very common datatype in Haskell because it lets us return a default `Nothing` value when we don’t have any sensible values to return for our intended type `a`. Below is a function that is correct and explicit about the possibility of not getting a result when the `Integer` provided is odd."
   ]
  },
  {
   "cell_type": "code",
   "execution_count": 14,
   "metadata": {},
   "outputs": [
    {
     "data": {
      "text/plain": [
       "Just 14"
      ]
     },
     "metadata": {},
     "output_type": "display_data"
    },
    {
     "data": {
      "text/plain": [
       "Nothing"
      ]
     },
     "metadata": {},
     "output_type": "display_data"
    }
   ],
   "source": [
    "ifEvenAdd2 :: Integer -> Maybe Integer\n",
    "ifEvenAdd2 n =\n",
    "    if even n\n",
    "    then Just (n + 2)\n",
    "    else Nothing\n",
    "\n",
    "--\n",
    "\n",
    "ifEvenAdd2 12\n",
    "ifEvenAdd2 13"
   ]
  },
  {
   "cell_type": "markdown",
   "metadata": {},
   "source": [
    "## Smart Constructors\n",
    "\n",
    "By making use of `Maybe`."
   ]
  },
  {
   "cell_type": "code",
   "execution_count": 15,
   "metadata": {
    "scrolled": true
   },
   "outputs": [
    {
     "data": {
      "text/plain": [
       "Just (Person \"John Browning\" 160)"
      ]
     },
     "metadata": {},
     "output_type": "display_data"
    },
    {
     "data": {
      "text/plain": [
       "Nothing"
      ]
     },
     "metadata": {},
     "output_type": "display_data"
    },
    {
     "data": {
      "text/plain": [
       "Just (Person \"blah\" 0)"
      ]
     },
     "metadata": {},
     "output_type": "display_data"
    },
    {
     "data": {
      "text/plain": [
       "Nothing"
      ]
     },
     "metadata": {},
     "output_type": "display_data"
    }
   ],
   "source": [
    "type Name = String\n",
    "type Age = Integer\n",
    "\n",
    "data Person =\n",
    "    Person Name Age\n",
    "    deriving Show\n",
    "    \n",
    "mkPerson :: Name -> Age -> Maybe Person\n",
    "mkPerson name age\n",
    "    | name /= \"\" && age >= 0 =\n",
    "        Just $ Person name age\n",
    "    | otherwise = Nothing\n",
    "\n",
    "--\n",
    "\n",
    "mkPerson \"John Browning\" 160\n",
    "mkPerson \"\" 160\n",
    "mkPerson \"blah\" 0\n",
    "mkPerson \"blah\" (-9001)"
   ]
  },
  {
   "cell_type": "markdown",
   "metadata": {},
   "source": [
    "## Either\n",
    "\n",
    "A way to know why our inputs were incorrect, if they were incorrect. It is conventional to use `Left` as our invalid or error constructor in Haskell."
   ]
  },
  {
   "cell_type": "markdown",
   "metadata": {},
   "source": [
    "data PersonInvalid =\n",
    "    NameEmpty\n",
    "    | AgeTooLow\n",
    "    deriving (Eq, Show)\n",
    "    \n",
    "mkPerson :: Name -> Age -> Either PersonInvalid Person\n",
    "mkPerson name age\n",
    "    | name /= \"\" && age >= 0 = Right $ Person name age\n",
    "    | name == \"\"             = Left NameEmpty\n",
    "    | otherwise              = Left AgeTooLow\n",
    "\n",
    "--\n",
    "\n",
    "mkPerson \"Djali\" 5\n",
    "mkPerson \"\" 10\n",
    "mkPerson \"Djali\" (-1)\n",
    "mkPerson \"\" (-1)"
   ]
  },
  {
   "cell_type": "markdown",
   "metadata": {},
   "source": [
    "All of this to have `mkPerson` return a list of validation errors."
   ]
  },
  {
   "cell_type": "code",
   "execution_count": 17,
   "metadata": {},
   "outputs": [
    {
     "data": {
      "text/plain": [
       "Left [NameEmpty,AgeTooLow]"
      ]
     },
     "metadata": {},
     "output_type": "display_data"
    }
   ],
   "source": [
    "type ValidatePerson a = Either [PersonInvalid] a\n",
    "\n",
    "ageOkay :: Age -> Either [PersonInvalid] Age\n",
    "ageOkay age = case age >= 0 of\n",
    "    True -> Right age\n",
    "    False -> Left [AgeTooLow]\n",
    "\n",
    "nameOkay :: Name -> Either [PersonInvalid] Name\n",
    "nameOkay name = case name /= \"\" of\n",
    "    True -> Right name\n",
    "    False -> Left [NameEmpty]\n",
    "\n",
    "mkPerson :: Name -> Age -> ValidatePerson Person\n",
    "mkPerson name age =\n",
    "    mkPerson' (nameOkay name) (ageOkay age)\n",
    "\n",
    "mkPerson' :: ValidatePerson Name -> ValidatePerson Age -> ValidatePerson Person\n",
    "mkPerson' (Right nameOk) (Right ageOk) =\n",
    "    Right (Person nameOk ageOk)\n",
    "mkPerson' (Left badName) (Left badAge) =\n",
    "    Left (badName ++ badAge)\n",
    "mkPerson' (Left badName) _ = Left badName\n",
    "mkPerson' _ (Left badAge) = Left badAge\n",
    "\n",
    "--\n",
    "\n",
    "mkPerson \"\" (-1)"
   ]
  },
  {
   "cell_type": "markdown",
   "metadata": {},
   "source": [
    "## Kinds and Higher-kinded Types\n",
    "\n",
    "_Type constructors_ (that is, higher-kinded types) are types that take more types as arguments. _Type constants_ refer to types that take no arguments and are already types.\n",
    "\n",
    "The `Maybe` and `Either` datatypes we’ve just reviewed also have _type constructors_ rather than _type constants_.\n",
    "\n",
    "```haskell\n",
    "Prelude> :k Maybe\n",
    "Maybe :: * -> *\n",
    "Prelude> :k Maybe Int\n",
    "Maybe Int :: *\n",
    "\n",
    "Prelude> :k Either\n",
    "Either :: * -> * -> *\n",
    "Prelude> :k Either Int\n",
    "Either Int :: * -> *\n",
    "Prelude> :k Either Int String\n",
    "Either Int String :: *\n",
    "```"
   ]
  },
  {
   "cell_type": "markdown",
   "metadata": {},
   "source": [
    "## Lifted and Unlifted Types\n",
    "\n",
    "`kind *` is the kind of all standard lifted types, while types that have the `kind #` are unlifted. A lifted type is any that can be inhabited by _bottom_. Unlifted types are any type which cannot be inhabited by _bottom_.\n",
    "\n",
    "Goal is to give us a way to understand when type errors are caused by things not being fully applied? Cool story.\n",
    "\n",
    "```haskell\n",
    "Prelude> :k Maybe\n",
    "Maybe :: * -> *\n",
    "Prelude> :k Maybe Int\n",
    "Maybe Int :: *\n",
    "Prelude> :k Maybe Bool\n",
    "Maybe Bool :: *\n",
    "\n",
    "Prelude> :k Maybe Maybe\n",
    "\n",
    "Expecting one more argument to ‘Maybe’\n",
    "The first argument of ‘Maybe’ should have kind ‘*’,\n",
    "    but ‘Maybe’ has kind ‘* -> *’\n",
    "In a type in a GHCi command: Maybe Maybe\n",
    "\n",
    "Prelude> :k Maybe Char\n",
    "Maybe Char :: *\n",
    "Prelude> :k Maybe (Maybe Char)\n",
    "Maybe (Maybe Char) :: *\n",
    "```"
   ]
  },
  {
   "cell_type": "markdown",
   "metadata": {},
   "source": [
    "## Data Constructors are Functions\n",
    "\n",
    "Some examples of how data constructros can act like functions?\n",
    "\n",
    "```haskell\n",
    "Prelude> data Trivial = Trivial deriving Show\n",
    "Prelude> Trivial 1\n",
    "\n",
    "Couldn't match expected type ‘Integer -> t’\n",
    "    with actual type ‘Trivial’\n",
    "    \n",
    "Prelude> data UnaryC = UnaryC Int deriving Show\n",
    "Prelude> :t UnaryC UnaryC :: Int -> UnaryC\n",
    "Prelude> UnaryC 10 UnaryC 10\n",
    "Prelude> :t UnaryC 10 UnaryC 10 :: UnaryC\n",
    "\n",
    "Prelude> data Unary a = Unary a deriving Show\n",
    "Prelude> :t Unary Unary :: a -> Unary a\n",
    "Prelude> :t Unary 10 Unary 10 :: Num a => Unary a\n",
    "Prelude> :t Unary \"blah\" Unary \"blah\" :: Unary [Char]\n",
    "```"
   ]
  },
  {
   "cell_type": "markdown",
   "metadata": {},
   "source": [
    "# Exercises"
   ]
  },
  {
   "cell_type": "markdown",
   "metadata": {},
   "source": [
    "1) Given\n",
    "\n",
    "```haskell\n",
    "id :: a -> a\n",
    "```\n",
    "\n",
    "What is the kind of `a`?\n",
    "\n",
    "2) Given\n",
    "\n",
    "```haskell\n",
    "r :: a -> f a\n",
    "```\n",
    "\n",
    "What are the kinds of `a` and `f`?"
   ]
  },
  {
   "cell_type": "markdown",
   "metadata": {},
   "source": [
    "## String Processing\n",
    "\n",
    "1) Write a recursive function named `replaceThe` which takes a text/string, breaks it into words and replaces each instance of “the” with “a”. It’s intended only to replace exactly the word “the”. `notThe` is a suggested helper function for accomplishing this."
   ]
  },
  {
   "cell_type": "code",
   "execution_count": 52,
   "metadata": {},
   "outputs": [
    {
     "data": {
      "text/plain": [
       "Nothing"
      ]
     },
     "metadata": {},
     "output_type": "display_data"
    },
    {
     "data": {
      "text/plain": [
       "Just \"blahtheblah\""
      ]
     },
     "metadata": {},
     "output_type": "display_data"
    },
    {
     "data": {
      "text/plain": [
       "Just \"woot\""
      ]
     },
     "metadata": {},
     "output_type": "display_data"
    },
    {
     "data": {
      "text/plain": [
       "\"a cow loves us\""
      ]
     },
     "metadata": {},
     "output_type": "display_data"
    }
   ],
   "source": [
    "import Data.Char\n",
    "import Data.Maybe\n",
    "\n",
    "notThe :: String -> Maybe String\n",
    "notThe \"the\" = Nothing\n",
    "notThe word  = Just word\n",
    "\n",
    "--\n",
    "\n",
    "notThe \"the\"\n",
    "notThe \"blahtheblah\"\n",
    "notThe \"woot\"\n",
    "\n",
    "--\n",
    "\n",
    "replaceThe :: String -> String\n",
    "replaceThe =\n",
    "    unwords . map (fromMaybe \"a\" . notThe) . words\n",
    "\n",
    "--\n",
    "\n",
    "replaceThe \"the cow loves us\""
   ]
  },
  {
   "cell_type": "markdown",
   "metadata": {},
   "source": [
    "2) Write a recursive function that takes a text/string, breaks it into words, and counts the number of instances of ”the” followed by a vowel-initial word."
   ]
  },
  {
   "cell_type": "code",
   "execution_count": 83,
   "metadata": {},
   "outputs": [
    {
     "data": {
      "text/plain": [
       "0"
      ]
     },
     "metadata": {},
     "output_type": "display_data"
    },
    {
     "data": {
      "text/plain": [
       "1"
      ]
     },
     "metadata": {},
     "output_type": "display_data"
    },
    {
     "data": {
      "text/plain": [
       "2"
      ]
     },
     "metadata": {},
     "output_type": "display_data"
    }
   ],
   "source": [
    "vowels :: [Char]\n",
    "vowels = \"aeiou\"\n",
    "\n",
    "beforeVowelInitial :: String -> Maybe String\n",
    "beforeVowelInitial body@('t':'h':'e':' ':x:xs)\n",
    "    | elem x vowels = Nothing\n",
    "    | otherwise     = Just body\n",
    "beforeVowelInitial xs = Just xs\n",
    "\n",
    "countTheBeforeVowel :: String -> Integer\n",
    "countTheBeforeVowel \"\" = 0\n",
    "countTheBeforeVowel body =\n",
    "    case beforeVowelInitial body of\n",
    "        Nothing     -> 1 + countTheBeforeVowel (drop 4 body)\n",
    "        Just (x:xs) -> 0 + countTheBeforeVowel xs\n",
    "\n",
    "--\n",
    "\n",
    "countTheBeforeVowel \"the cow\"\n",
    "countTheBeforeVowel \"the evil cow\"\n",
    "countTheBeforeVowel \"the evil cow jumped over the ill moon\""
   ]
  },
  {
   "cell_type": "markdown",
   "metadata": {},
   "source": [
    "3) Return the number of letters that are vowels in a word.\n",
    "\n",
    "__Hint__: it’s helpful to break this into steps. Add any helper functions necessary to achieve your objectives.\n",
    "\n",
    "- Test for vowelhood  \n",
    "- Return the vowels of a string  \n",
    "- Count the number of elements returned"
   ]
  },
  {
   "cell_type": "code",
   "execution_count": 95,
   "metadata": {},
   "outputs": [
    {
     "data": {
      "text/plain": [
       "2"
      ]
     },
     "metadata": {},
     "output_type": "display_data"
    },
    {
     "data": {
      "text/plain": [
       "4"
      ]
     },
     "metadata": {},
     "output_type": "display_data"
    }
   ],
   "source": [
    "countVowels :: String -> Integer\n",
    "countVowels = toInteger . length . filter (`elem` vowels)\n",
    "\n",
    "--\n",
    "\n",
    "countVowels \"the cow\"\n",
    "countVowels \"Mikolajczak\""
   ]
  },
  {
   "cell_type": "markdown",
   "metadata": {},
   "source": [
    "## Validate the Word\n",
    "\n",
    "Use the `Maybe` type to write a function that counts the number of vowels in a string and the number of consonants. If the number of vowels exceeds the number of consonants, the function returns `Nothing`. In many human languages, vowels rarely exceed the number of consonants so when they do, it may indicate the input isn’t a word (that is, a valid input to your dataset):"
   ]
  },
  {
   "cell_type": "code",
   "execution_count": 111,
   "metadata": {},
   "outputs": [
    {
     "data": {
      "text/plain": [
       "Just (Word' \"hello there\")"
      ]
     },
     "metadata": {},
     "output_type": "display_data"
    },
    {
     "data": {
      "text/plain": [
       "Nothing"
      ]
     },
     "metadata": {},
     "output_type": "display_data"
    }
   ],
   "source": [
    "newtype Word' =\n",
    "    Word' String deriving (Eq, Show)\n",
    "\n",
    "countConsonants :: String -> Integer\n",
    "countConsonants = toInteger . length . filter (not . (`elem` vowels))\n",
    "\n",
    "mkWord :: String -> Maybe Word'\n",
    "mkWord xs\n",
    "    | vs > cs   = Nothing\n",
    "    | otherwise = Just (Word' xs)\n",
    "    where vs = countVowels xs\n",
    "          cs = countConsonants xs\n",
    "          \n",
    "--\n",
    "\n",
    "mkWord \"hello there\"\n",
    "mkWord \"helloooooooo there\""
   ]
  },
  {
   "cell_type": "markdown",
   "metadata": {},
   "source": [
    "## It’s Only Natural\n",
    "\n",
    "You’ll be presented with a datatype to represent the natural numbers. The only values representable with the naturals are whole numbers from zero to infinity. Your task will be to implement functions to convert `Naturals` to `Integers` and `Integers` to `Naturals`. The conversion from `Naturals` to `Integers` won’t return `Maybe` because `Integer` is a strict superset of `Natural`. Any `Natural` can be represented by an `Integer`, but the same is not true of any `Integer`. Negative numbers are not valid natural numbers."
   ]
  },
  {
   "cell_type": "code",
   "execution_count": 115,
   "metadata": {},
   "outputs": [
    {
     "data": {
      "text/plain": [
       "0"
      ]
     },
     "metadata": {},
     "output_type": "display_data"
    },
    {
     "data": {
      "text/plain": [
       "1"
      ]
     },
     "metadata": {},
     "output_type": "display_data"
    },
    {
     "data": {
      "text/plain": [
       "2"
      ]
     },
     "metadata": {},
     "output_type": "display_data"
    },
    {
     "data": {
      "text/plain": [
       "Just Zero"
      ]
     },
     "metadata": {},
     "output_type": "display_data"
    },
    {
     "data": {
      "text/plain": [
       "Just (Succ Zero)"
      ]
     },
     "metadata": {},
     "output_type": "display_data"
    },
    {
     "data": {
      "text/plain": [
       "Just (Succ (Succ Zero))"
      ]
     },
     "metadata": {},
     "output_type": "display_data"
    },
    {
     "data": {
      "text/plain": [
       "Nothing"
      ]
     },
     "metadata": {},
     "output_type": "display_data"
    }
   ],
   "source": [
    "data Nat =\n",
    "    Zero\n",
    "    | Succ Nat\n",
    "    deriving (Eq, Show)\n",
    "\n",
    "natToInteger :: Nat -> Integer\n",
    "natToInteger Zero = 0\n",
    "natToInteger (Succ x) = 1 + natToInteger x\n",
    "\n",
    "--\n",
    "\n",
    "natToInteger Zero\n",
    "natToInteger (Succ Zero)\n",
    "natToInteger (Succ (Succ Zero))\n",
    "\n",
    "--\n",
    "\n",
    "integerToNat :: Integer -> Maybe Nat\n",
    "integerToNat 0 = Just Zero\n",
    "integerToNat n\n",
    "    | n < 0     = Nothing\n",
    "    | otherwise = Just (Succ x)\n",
    "    where (Just x) = integerToNat $ (n - 1)\n",
    "\n",
    "--\n",
    "\n",
    "integerToNat 0\n",
    "integerToNat 1\n",
    "integerToNat 2\n",
    "integerToNat (-1)"
   ]
  },
  {
   "cell_type": "markdown",
   "metadata": {},
   "source": [
    "## Small Library for Maybe\n",
    "\n",
    "Write the following functions. This may take some time. `:'(`\n",
    "\n",
    "1) Simple boolean checks for `Maybe` values."
   ]
  },
  {
   "cell_type": "code",
   "execution_count": 136,
   "metadata": {},
   "outputs": [
    {
     "data": {
      "text/plain": [
       "True"
      ]
     },
     "metadata": {},
     "output_type": "display_data"
    },
    {
     "data": {
      "text/plain": [
       "False"
      ]
     },
     "metadata": {},
     "output_type": "display_data"
    },
    {
     "data": {
      "text/plain": [
       "False"
      ]
     },
     "metadata": {},
     "output_type": "display_data"
    },
    {
     "data": {
      "text/plain": [
       "True"
      ]
     },
     "metadata": {},
     "output_type": "display_data"
    }
   ],
   "source": [
    "isJust' :: Maybe a -> Bool\n",
    "isJust' Nothing  = False\n",
    "isJust' _        = True\n",
    "\n",
    "isNothing' :: Maybe a -> Bool\n",
    "isNothing' Nothing = True\n",
    "isNothing' _       = False\n",
    "\n",
    "--\n",
    "\n",
    "isJust' (Just 1)\n",
    "isJust' Nothing\n",
    "\n",
    "isNothing' (Just 1)\n",
    "isNothing' Nothing"
   ]
  },
  {
   "cell_type": "markdown",
   "metadata": {},
   "source": [
    "2) The following is the `Maybe` catamorphism. You can turn a `Maybe` value into anything else with this."
   ]
  },
  {
   "cell_type": "code",
   "execution_count": 124,
   "metadata": {},
   "outputs": [
    {
     "data": {
      "text/plain": [
       "0"
      ]
     },
     "metadata": {},
     "output_type": "display_data"
    },
    {
     "data": {
      "text/plain": [
       "2"
      ]
     },
     "metadata": {},
     "output_type": "display_data"
    }
   ],
   "source": [
    "import Data.Maybe\n",
    "\n",
    "mayybee :: b -> (a -> b) -> Maybe a -> b\n",
    "mayybee d f x\n",
    "    | isJust x  = f (fromJust x)\n",
    "    | otherwise = d\n",
    "\n",
    "--\n",
    "\n",
    "mayybee 0 (+1) Nothing\n",
    "mayybee 0 (+1) (Just 1)"
   ]
  },
  {
   "cell_type": "markdown",
   "metadata": {},
   "source": [
    "3) In case you just want to provide a fallback value."
   ]
  },
  {
   "cell_type": "code",
   "execution_count": 128,
   "metadata": {},
   "outputs": [
    {
     "data": {
      "text/plain": [
       "0"
      ]
     },
     "metadata": {},
     "output_type": "display_data"
    },
    {
     "data": {
      "text/plain": [
       "1"
      ]
     },
     "metadata": {},
     "output_type": "display_data"
    }
   ],
   "source": [
    "fromMaybe' :: a -> Maybe a -> a\n",
    "fromMaybe' d x =\n",
    "    case x of\n",
    "        Nothing -> d\n",
    "        Just v  -> v\n",
    "\n",
    "--\n",
    "\n",
    "fromMaybe' 0 Nothing\n",
    "fromMaybe' 0 (Just 1)"
   ]
  },
  {
   "cell_type": "markdown",
   "metadata": {},
   "source": [
    "4) Converting between `List` and `Maybe`."
   ]
  },
  {
   "cell_type": "code",
   "execution_count": 135,
   "metadata": {},
   "outputs": [
    {
     "data": {
      "text/plain": [
       "Just 1"
      ]
     },
     "metadata": {},
     "output_type": "display_data"
    },
    {
     "data": {
      "text/plain": [
       "Nothing"
      ]
     },
     "metadata": {},
     "output_type": "display_data"
    },
    {
     "data": {
      "text/plain": [
       "[1]"
      ]
     },
     "metadata": {},
     "output_type": "display_data"
    },
    {
     "data": {
      "text/plain": [
       "[]"
      ]
     },
     "metadata": {},
     "output_type": "display_data"
    }
   ],
   "source": [
    "listToMaybe' :: [a] -> Maybe a\n",
    "listToMaybe' []     = Nothing\n",
    "listToMaybe' (x:xs) = Just x\n",
    "\n",
    "maybeToList' :: Maybe a -> [a]\n",
    "maybeToList' Nothing  = []\n",
    "maybeToList' (Just v) = [v]\n",
    "\n",
    "--\n",
    "\n",
    "listToMaybe' [1, 2, 3]\n",
    "listToMaybe' []\n",
    "\n",
    "maybeToList' (Just 1)\n",
    "maybeToList' Nothing"
   ]
  },
  {
   "cell_type": "markdown",
   "metadata": {},
   "source": [
    "5) For when we want to drop the `Nothing` values from our list."
   ]
  },
  {
   "cell_type": "code",
   "execution_count": 147,
   "metadata": {},
   "outputs": [
    {
     "data": {
      "text/plain": [
       "[1,2]"
      ]
     },
     "metadata": {},
     "output_type": "display_data"
    },
    {
     "data": {
      "text/plain": [
       "[]"
      ]
     },
     "metadata": {},
     "output_type": "display_data"
    }
   ],
   "source": [
    "catMaybes' :: [Maybe a] -> [a]\n",
    "catMaybes' [] = []\n",
    "catMaybes' (x:xs) =\n",
    "    case x of\n",
    "        Nothing -> catMaybes' xs\n",
    "        Just v  -> v : catMaybes' xs\n",
    "\n",
    "--\n",
    "\n",
    "catMaybes' [Just 1, Nothing, Just 2]\n",
    "catMaybes' (replicate 3 Nothing)"
   ]
  },
  {
   "cell_type": "markdown",
   "metadata": {},
   "source": [
    "6) You’ll see this called “sequence” later."
   ]
  },
  {
   "cell_type": "code",
   "execution_count": 160,
   "metadata": {},
   "outputs": [
    {
     "data": {
      "text/plain": [
       "Just [1,2,3]"
      ]
     },
     "metadata": {},
     "output_type": "display_data"
    },
    {
     "data": {
      "text/plain": [
       "Nothing"
      ]
     },
     "metadata": {},
     "output_type": "display_data"
    }
   ],
   "source": [
    "flipMaybe :: [Maybe a] -> Maybe [a]\n",
    "flipMaybe [] = Nothing\n",
    "flipMaybe x =\n",
    "    case n of\n",
    "        0 -> Just $ catMaybes' x\n",
    "        _ -> Nothing\n",
    "    where n = length $ filter isNothing' x\n",
    "\n",
    "--\n",
    "\n",
    "flipMaybe [Just 1, Just 2, Just 3]\n",
    "flipMaybe [Just 1, Nothing, Just 3]"
   ]
  }
 ],
 "metadata": {
  "kernelspec": {
   "display_name": "Haskell",
   "language": "haskell",
   "name": "haskell"
  },
  "language_info": {
   "codemirror_mode": "ihaskell",
   "file_extension": ".hs",
   "name": "haskell",
   "version": "8.0.2"
  }
 },
 "nbformat": 4,
 "nbformat_minor": 2
}
