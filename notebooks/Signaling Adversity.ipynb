{
 "cells": [
  {
   "cell_type": "markdown",
   "metadata": {},
   "source": [
    "# Signaling Adversity\n",
    "\n",
    "(_A chapter name after my_ ❤️_.)_"
   ]
  },
  {
   "cell_type": "markdown",
   "metadata": {},
   "source": [
    "## Nothing\n",
    "\n",
    "A very common datatype in Haskell because it lets us return a default `Nothing` value when we don’t have any sensible values to return for our intended type `a`:\n",
    "\n",
    "```haskell\n",
    "data Maybe a = Nothing | Just a\n",
    "```\n",
    "\n",
    "Below is a function that is explicit about the possibility of not getting a result when the `Integer` provided is odd."
   ]
  },
  {
   "cell_type": "code",
   "execution_count": null,
   "metadata": {},
   "outputs": [],
   "source": [
    "ifEvenAdd2 :: Integer -> Maybe Integer\n",
    "ifEvenAdd2 n =\n",
    "    if even n\n",
    "    then Just (n + 2)\n",
    "    else Nothing\n",
    "\n",
    "--\n",
    "\n",
    "ifEvenAdd2 12\n",
    "ifEvenAdd2 13"
   ]
  },
  {
   "cell_type": "markdown",
   "metadata": {},
   "source": [
    "## Smart Constructors\n",
    "\n",
    "By making use of `Maybe`."
   ]
  },
  {
   "cell_type": "code",
   "execution_count": null,
   "metadata": {
    "scrolled": true
   },
   "outputs": [],
   "source": [
    "type Name = String\n",
    "type Age = Integer\n",
    "\n",
    "data Person =\n",
    "    Person Name Age\n",
    "    deriving Show\n",
    "    \n",
    "mkPerson :: Name -> Age -> Maybe Person\n",
    "mkPerson name age\n",
    "    | name /= \"\" && age >= 0 =\n",
    "        Just $ Person name age\n",
    "    | otherwise = Nothing\n",
    "\n",
    "--\n",
    "\n",
    "mkPerson \"John Browning\" 160\n",
    "mkPerson \"\" 160\n",
    "mkPerson \"blah\" 0\n",
    "mkPerson \"blah\" (-9001)"
   ]
  },
  {
   "cell_type": "markdown",
   "metadata": {},
   "source": [
    "## Either\n",
    "\n",
    "A way to know why our inputs were incorrect, if they were incorrect.\n",
    "\n",
    "```haskell\n",
    "data Either a b = Left a | Right b\n",
    "```\n",
    "\n",
    "It is conventional to use `Left` as our invalid or error constructor."
   ]
  },
  {
   "cell_type": "code",
   "execution_count": null,
   "metadata": {},
   "outputs": [],
   "source": [
    "-- Sum type for an invalid person\n",
    "data PersonInvalid =\n",
    "    NameEmpty\n",
    "    | AgeTooLow\n",
    "    deriving (Eq, Show)\n",
    "\n",
    "mkPerson :: Name -> Age -> Either PersonInvalid Person\n",
    "mkPerson name age\n",
    "    | name /= \"\" && age >= 0 = Right $ Person name age\n",
    "    | name == \"\"             = Left NameEmpty\n",
    "    | otherwise              = Left AgeTooLow\n",
    "\n",
    "--\n",
    "\n",
    "mkPerson \"Djali\" 5\n",
    "mkPerson \"\" 10\n",
    "mkPerson \"Djali\" (-1)\n",
    "mkPerson \"\" (-1)"
   ]
  },
  {
   "cell_type": "markdown",
   "metadata": {},
   "source": [
    "## List of Validaton Errors\n",
    "\n",
    "Man, all of this to have `mkPerson` return a list of validation errors. Also, thanks for the `liftA2` tease."
   ]
  },
  {
   "cell_type": "code",
   "execution_count": null,
   "metadata": {},
   "outputs": [],
   "source": [
    "-- Type alias for Either [PersonInvalid] a\n",
    "type ValidatePerson a = Either [PersonInvalid] a\n",
    "\n",
    "ageOkay :: Age -> Either [PersonInvalid] Age\n",
    "ageOkay age =\n",
    "    case age >= 0 of\n",
    "        True -> Right age\n",
    "        False -> Left [AgeTooLow]\n",
    "\n",
    "nameOkay :: Name -> Either [PersonInvalid] Name\n",
    "nameOkay name =\n",
    "    case name /= \"\" of\n",
    "        True -> Right name\n",
    "        False -> Left [NameEmpty]\n",
    "\n",
    "mkPerson :: Name -> Age -> ValidatePerson Person\n",
    "mkPerson name age =\n",
    "    mkPerson' (nameOkay name) (ageOkay age)\n",
    "\n",
    "mkPerson' :: ValidatePerson Name -> ValidatePerson Age -> ValidatePerson Person\n",
    "mkPerson' (Right nameOk) (Right ageOk) =\n",
    "    Right (Person nameOk ageOk)\n",
    "mkPerson' (Left badName) (Left badAge) =\n",
    "    Left (badName ++ badAge)\n",
    "mkPerson' (Left badName) _ = Left badName\n",
    "mkPerson' _ (Left badAge) = Left badAge\n",
    "\n",
    "--\n",
    "\n",
    "mkPerson \"\" (-1)\n",
    "mkPerson \"Joker\" (-1)\n",
    "mkPerson \"Joker\" 25"
   ]
  },
  {
   "cell_type": "markdown",
   "metadata": {},
   "source": [
    "## Kinds and Higher-kinded Types\n",
    "\n",
    "_Type constructors_ (that is, higher-kinded types) are types that take more types as arguments. _Type constants_ refer to types that take no arguments and are already types.\n",
    "\n",
    "The following is an example of a type that has a type constructor rather than a type constant:\n",
    "\n",
    "```haskell\n",
    "data Example a = Blah | RoofGoats | Woot a\n",
    "```\n",
    "\n",
    "`Example` is a _type constructor_ rather than a _type constant_ because it takes a type argument `a` which is used with the `Woot` data constructor.\n",
    "\n",
    "---\n",
    "\n",
    "The `Maybe` and `Either` datatypes we’ve just reviewed also have _type constructors_ rather than _type constants_.\n",
    "\n",
    "```haskell\n",
    "Prelude> :k Maybe\n",
    "Maybe :: * -> *\n",
    "Prelude> :k Maybe Int\n",
    "Maybe Int :: *\n",
    "\n",
    "Prelude> :k Either\n",
    "Either :: * -> * -> *\n",
    "Prelude> :k Either Int\n",
    "Either Int :: * -> *\n",
    "Prelude> :k Either Int String\n",
    "Either Int String :: *\n",
    "```"
   ]
  },
  {
   "cell_type": "markdown",
   "metadata": {},
   "source": [
    "## Lifted and Unlifted Types\n",
    "\n",
    "`kind *` is the kind of all standard lifted types, while types that have the `kind #` are unlifted. A lifted type is any that can be inhabited by _bottom_. Unlifted types are any type which cannot be inhabited by _bottom_.\n",
    "\n",
    "Goal is to give us a way to understand when type errors are caused by things not being fully applied? `¯\\_(ツ)_/¯`\n",
    "\n",
    "```haskell\n",
    "Prelude> :k Maybe\n",
    "Maybe :: * -> *\n",
    "Prelude> :k Maybe Int\n",
    "Maybe Int :: *\n",
    "Prelude> :k Maybe Bool\n",
    "Maybe Bool :: *\n",
    "\n",
    "Prelude> :k Maybe Maybe\n",
    "\n",
    "Expecting one more argument to ‘Maybe’\n",
    "The first argument of ‘Maybe’ should have kind ‘*’,\n",
    "    but ‘Maybe’ has kind ‘* -> *’\n",
    "In a type in a GHCi command: Maybe Maybe\n",
    "\n",
    "Prelude> :k Maybe Char\n",
    "Maybe Char :: *\n",
    "Prelude> :k Maybe (Maybe Char)\n",
    "Maybe (Maybe Char) :: *\n",
    "```"
   ]
  },
  {
   "cell_type": "markdown",
   "metadata": {},
   "source": [
    "## Data Constructors are Functions\n",
    "\n",
    "Some examples of how data constructros can act like functions:\n",
    "\n",
    "```haskell\n",
    "Prelude> data Trivial = Trivial deriving Show\n",
    "Prelude> Trivial 1\n",
    "\n",
    "Couldn't match expected type ‘Integer -> t’\n",
    "    with actual type ‘Trivial’\n",
    "    \n",
    "Prelude> data UnaryC = UnaryC Int deriving Show\n",
    "Prelude> :t UnaryC UnaryC :: Int -> UnaryC\n",
    "Prelude> UnaryC 10 UnaryC 10\n",
    "Prelude> :t UnaryC 10 UnaryC 10 :: UnaryC\n",
    "\n",
    "Prelude> data Unary a = Unary a deriving Show\n",
    "Prelude> :t Unary Unary :: a -> Unary a\n",
    "Prelude> :t Unary 10 Unary 10 :: Num a => Unary a\n",
    "Prelude> :t Unary \"blah\" Unary \"blah\" :: Unary [Char]\n",
    "```"
   ]
  },
  {
   "cell_type": "markdown",
   "metadata": {},
   "source": [
    "# Exercises"
   ]
  },
  {
   "cell_type": "markdown",
   "metadata": {},
   "source": [
    "1) Given\n",
    "\n",
    "```haskell\n",
    "id :: a -> a\n",
    "```\n",
    "\n",
    "What is the kind of `a`? `*`\n",
    "\n",
    "2) Given\n",
    "\n",
    "```haskell\n",
    "r :: a -> f a\n",
    "```\n",
    "\n",
    "What are the kinds of `a` and `f`? `* -> *`"
   ]
  },
  {
   "cell_type": "markdown",
   "metadata": {},
   "source": [
    "## String Processing\n",
    "\n",
    "1) Write a recursive function named `replaceThe` which takes a text/string, breaks it into words and replaces each instance of “the” with “a”. It’s intended only to replace exactly the word “the”. `notThe` is a suggested helper function for accomplishing this."
   ]
  },
  {
   "cell_type": "code",
   "execution_count": null,
   "metadata": {},
   "outputs": [],
   "source": [
    "notThe :: String -> Maybe String\n",
    "notThe \"the\" = Nothing\n",
    "notThe word  = Just word\n",
    "\n",
    "--\n",
    "\n",
    "notThe \"the\"\n",
    "notThe \"blahtheblah\"\n",
    "notThe \"woot\""
   ]
  },
  {
   "cell_type": "code",
   "execution_count": null,
   "metadata": {},
   "outputs": [],
   "source": [
    "import Data.Char\n",
    "import Data.Maybe\n",
    "\n",
    "replaceThe :: String -> String\n",
    "replaceThe =\n",
    "    unwords . map (fromMaybe \"a\" . notThe) . words\n",
    "\n",
    "--\n",
    "\n",
    "replaceThe \"the cow loves us\""
   ]
  },
  {
   "cell_type": "markdown",
   "metadata": {},
   "source": [
    "2) Write a recursive function that takes a text/string, breaks it into words, and counts the number of instances of ”the” followed by a vowel-initial word."
   ]
  },
  {
   "cell_type": "code",
   "execution_count": null,
   "metadata": {},
   "outputs": [],
   "source": [
    "vowels :: [Char]\n",
    "vowels = \"aeiou\"\n",
    "\n",
    "beforeVowelInitial :: String -> Maybe String\n",
    "beforeVowelInitial body@('t':'h':'e':' ':x:xs)\n",
    "    | elem x vowels = Nothing\n",
    "    | otherwise     = Just body\n",
    "beforeVowelInitial body = Just body\n",
    "\n",
    "countTheBeforeVowel :: String -> Integer\n",
    "countTheBeforeVowel \"\" = 0\n",
    "countTheBeforeVowel body =\n",
    "    case beforeVowelInitial body of\n",
    "        Nothing     -> 1 + countTheBeforeVowel (drop 4 body)\n",
    "        Just (x:xs) -> 0 + countTheBeforeVowel xs\n",
    "\n",
    "--\n",
    "\n",
    "countTheBeforeVowel \"the cow\"\n",
    "countTheBeforeVowel \"the evil cow\"\n",
    "countTheBeforeVowel \"the evil cow jumped over the ill moon\""
   ]
  },
  {
   "cell_type": "markdown",
   "metadata": {},
   "source": [
    "3) Return the number of letters that are vowels in a word.\n",
    "\n",
    "__Hint__: it’s helpful to break this into steps. Add any helper functions necessary to achieve your objectives.\n",
    "\n",
    "- Test for vowelhood  \n",
    "- Return the vowels of a string  \n",
    "- Count the number of elements returned"
   ]
  },
  {
   "cell_type": "code",
   "execution_count": null,
   "metadata": {},
   "outputs": [],
   "source": [
    "countVowels :: String -> Integer\n",
    "countVowels = toInteger . length . filter (`elem` vowels)\n",
    "\n",
    "--\n",
    "\n",
    "countVowels \"the cow\"\n",
    "countVowels \"Mikolajczak\""
   ]
  },
  {
   "cell_type": "markdown",
   "metadata": {},
   "source": [
    "## Validate the Word\n",
    "\n",
    "Use the `Maybe` type to write a function that counts the number of vowels in a string and the number of consonants. If the number of vowels exceeds the number of consonants, the function returns `Nothing`. In many human languages, vowels rarely exceed the number of consonants so when they do, it may indicate the input isn’t a word (that is, a valid input to your dataset):"
   ]
  },
  {
   "cell_type": "code",
   "execution_count": null,
   "metadata": {},
   "outputs": [],
   "source": [
    "newtype Word' =\n",
    "    Word' String deriving (Eq, Show)\n",
    "\n",
    "countConsonants :: String -> Integer\n",
    "countConsonants = toInteger . length . filter (not . (`elem` vowels))\n",
    "\n",
    "mkWord :: String -> Maybe Word'\n",
    "mkWord xs\n",
    "    | vs > cs   = Nothing\n",
    "    | otherwise = Just (Word' xs)\n",
    "    where vs = countVowels xs\n",
    "          cs = countConsonants xs\n",
    "          \n",
    "--\n",
    "\n",
    "mkWord \"hello there\"\n",
    "mkWord \"helloooooooo there\""
   ]
  },
  {
   "cell_type": "markdown",
   "metadata": {},
   "source": [
    "## It’s Only Natural\n",
    "\n",
    "You’ll be presented with a datatype to represent the natural numbers. The only values representable with the naturals are whole numbers from zero to infinity. Your task will be to implement functions to convert `Naturals` to `Integers` and `Integers` to `Naturals`. The conversion from `Naturals` to `Integers` won’t return `Maybe` because `Integer` is a strict superset of `Natural`. Any `Natural` can be represented by an `Integer`, but the same is not true of any `Integer`. Negative numbers are not valid natural numbers."
   ]
  },
  {
   "cell_type": "code",
   "execution_count": null,
   "metadata": {},
   "outputs": [],
   "source": [
    "data Nat =\n",
    "    Zero\n",
    "    | Succ Nat\n",
    "    deriving (Eq, Show)\n",
    "\n",
    "natToInteger :: Nat -> Integer\n",
    "natToInteger Zero = 0\n",
    "natToInteger (Succ x) = 1 + natToInteger x\n",
    "\n",
    "--\n",
    "\n",
    "natToInteger Zero\n",
    "natToInteger (Succ Zero)\n",
    "natToInteger (Succ (Succ Zero))"
   ]
  },
  {
   "cell_type": "code",
   "execution_count": null,
   "metadata": {},
   "outputs": [],
   "source": [
    "integerToNat :: Integer -> Maybe Nat\n",
    "integerToNat 0 = Just Zero\n",
    "integerToNat n\n",
    "    | n < 0     = Nothing\n",
    "    | otherwise = Just (Succ x)\n",
    "    where (Just x) = integerToNat $ (n - 1)\n",
    "\n",
    "--\n",
    "\n",
    "integerToNat 0\n",
    "integerToNat 1\n",
    "integerToNat 2\n",
    "integerToNat (-1)"
   ]
  },
  {
   "cell_type": "markdown",
   "metadata": {},
   "source": [
    "## Small Library for Maybe\n",
    "\n",
    "Write the following functions. This may take some time. 😢\n",
    "\n",
    "1) Simple boolean checks for `Maybe` values."
   ]
  },
  {
   "cell_type": "code",
   "execution_count": null,
   "metadata": {},
   "outputs": [],
   "source": [
    "isJust' :: Maybe a -> Bool\n",
    "isJust' Nothing  = False\n",
    "isJust' _        = True\n",
    "\n",
    "isNothing' :: Maybe a -> Bool\n",
    "isNothing' Nothing = True\n",
    "isNothing' _       = False\n",
    "\n",
    "--\n",
    "\n",
    "isJust' (Just 1)\n",
    "isJust' Nothing\n",
    "\n",
    "isNothing' (Just 1)\n",
    "isNothing' Nothing"
   ]
  },
  {
   "cell_type": "markdown",
   "metadata": {},
   "source": [
    "2) The following is the `Maybe` catamorphism. You can turn a `Maybe` value into anything else with this."
   ]
  },
  {
   "cell_type": "code",
   "execution_count": null,
   "metadata": {},
   "outputs": [],
   "source": [
    "import Data.Maybe\n",
    "\n",
    "mayybee :: b -> (a -> b) -> Maybe a -> b\n",
    "mayybee b f x\n",
    "    | isJust x  = f (fromJust x)\n",
    "    | otherwise = b\n",
    "\n",
    "--\n",
    "\n",
    "mayybee 0 (+1) Nothing\n",
    "mayybee 0 (+1) (Just 1)"
   ]
  },
  {
   "cell_type": "markdown",
   "metadata": {},
   "source": [
    "3) In case you just want to provide a fallback value."
   ]
  },
  {
   "cell_type": "code",
   "execution_count": null,
   "metadata": {},
   "outputs": [],
   "source": [
    "fromMaybe' :: a -> Maybe a -> a\n",
    "fromMaybe' a x =\n",
    "    case x of\n",
    "        Nothing -> a\n",
    "        Just v  -> v\n",
    "\n",
    "--\n",
    "\n",
    "fromMaybe' 0 Nothing\n",
    "fromMaybe' 0 (Just 1)"
   ]
  },
  {
   "cell_type": "markdown",
   "metadata": {},
   "source": [
    "4) Converting between `List` and `Maybe`."
   ]
  },
  {
   "cell_type": "code",
   "execution_count": null,
   "metadata": {},
   "outputs": [],
   "source": [
    "listToMaybe' :: [a] -> Maybe a\n",
    "listToMaybe' []     = Nothing\n",
    "listToMaybe' (x:xs) = Just x\n",
    "\n",
    "maybeToList' :: Maybe a -> [a]\n",
    "maybeToList' Nothing  = []\n",
    "maybeToList' (Just v) = [v]\n",
    "\n",
    "--\n",
    "\n",
    "listToMaybe' [1, 2, 3]\n",
    "listToMaybe' []\n",
    "\n",
    "maybeToList' (Just 1)\n",
    "maybeToList' Nothing"
   ]
  },
  {
   "cell_type": "markdown",
   "metadata": {},
   "source": [
    "5) For when we want to drop the `Nothing` values from our list."
   ]
  },
  {
   "cell_type": "code",
   "execution_count": null,
   "metadata": {},
   "outputs": [],
   "source": [
    "catMaybes' :: [Maybe a] -> [a]\n",
    "catMaybes' [] = []\n",
    "catMaybes' (x:xs) =\n",
    "    case x of\n",
    "        Nothing -> catMaybes' xs\n",
    "        Just v  -> v : catMaybes' xs\n",
    "\n",
    "--\n",
    "\n",
    "catMaybes' [Just 1, Nothing, Just 2]\n",
    "catMaybes' (replicate 3 Nothing)"
   ]
  },
  {
   "cell_type": "markdown",
   "metadata": {},
   "source": [
    "6) You’ll see this called “sequence” later."
   ]
  },
  {
   "cell_type": "code",
   "execution_count": null,
   "metadata": {},
   "outputs": [],
   "source": [
    "flipMaybe :: [Maybe a] -> Maybe [a]\n",
    "flipMaybe xs\n",
    "    | any isNothing' xs = Nothing\n",
    "    | otherwise         = Just $ catMaybes' xs\n",
    "\n",
    "--\n",
    "\n",
    "flipMaybe [Just 1, Just 2, Just 3]\n",
    "flipMaybe [Just 1, Nothing, Just 3]"
   ]
  },
  {
   "cell_type": "markdown",
   "metadata": {},
   "source": [
    "## Small Library for Either\n",
    "\n",
    "Write each of the following functions. If more than one possible unique function exists for the type, use common sense to determine what it should do.\n",
    "\n",
    "1) Try to eventually arrive at a solution that uses `foldr`, even if earlier versions don’t use `foldr`."
   ]
  },
  {
   "cell_type": "code",
   "execution_count": null,
   "metadata": {},
   "outputs": [],
   "source": [
    "import Data.Either\n",
    "\n",
    "lefts' :: [Either a b] -> [a]\n",
    "lefts' xs = foldr f [] (filter isLeft xs)\n",
    "    where f (Left v) acc = v : acc\n",
    "\n",
    "lefts' [Left 2, Right 5]"
   ]
  },
  {
   "cell_type": "markdown",
   "metadata": {},
   "source": [
    "2) Same as the last one. Use `foldr` eventually."
   ]
  },
  {
   "cell_type": "code",
   "execution_count": null,
   "metadata": {},
   "outputs": [],
   "source": [
    "rights' :: [Either a b] -> [b]\n",
    "rights' xs = foldr f [] (filter isRight xs)\n",
    "    where f (Right v) acc = v : acc\n",
    "\n",
    "rights' [Left 2, Right 5]"
   ]
  },
  {
   "cell_type": "code",
   "execution_count": null,
   "metadata": {},
   "outputs": [],
   "source": [
    "partitionEithers' :: [Either a b] -> ([a], [b])\n",
    "partitionEithers' xs =\n",
    "    (lefts' xs, rights' xs)\n",
    "\n",
    "--\n",
    "\n",
    "partitionEithers' [Left 2, Right 5, Left 1, Left 10]"
   ]
  },
  {
   "cell_type": "code",
   "execution_count": null,
   "metadata": {},
   "outputs": [],
   "source": [
    "eitherMaybe' :: (b -> c) -> Either a b -> Maybe c\n",
    "eitherMaybe' f (Right b) = Just (f b)\n",
    "eitherMaybe' _ _         = Nothing\n",
    "\n",
    "--\n",
    "\n",
    "eitherMaybe' (+1) (Left 2)\n",
    "eitherMaybe' (+1) (Right 5)"
   ]
  },
  {
   "cell_type": "code",
   "execution_count": null,
   "metadata": {},
   "outputs": [],
   "source": [
    "either' :: (a -> c) -> (b -> c) -> Either a b -> c\n",
    "either' f _ (Left v)  = f v\n",
    "either' _ g (Right v) = g v\n",
    "\n",
    "--\n",
    "\n",
    "either' length (*2) (Left \"Joker\")\n",
    "either' length (*2) (Right 3)"
   ]
  },
  {
   "cell_type": "code",
   "execution_count": null,
   "metadata": {},
   "outputs": [],
   "source": [
    "eitherMaybe'' :: (b -> c) -> Either a b -> Maybe c\n",
    "eitherMaybe'' f x = either' (const Nothing) (Just . f) x\n",
    "\n",
    "--\n",
    "\n",
    "eitherMaybe'' (+1) (Left 2)\n",
    "eitherMaybe'' (+1) (Right 5)"
   ]
  },
  {
   "cell_type": "markdown",
   "metadata": {},
   "source": [
    "## Unfolds\n",
    "\n",
    "1) Write the function `myIterate` using direct recursion. Compare the behavior with the built-in `iterate` to gauge correctness. Do not look at the source or any examples of `iterate` so that you are forced to do this yourself."
   ]
  },
  {
   "cell_type": "code",
   "execution_count": null,
   "metadata": {},
   "outputs": [],
   "source": [
    "myIterate :: (a -> a) -> a -> [a]\n",
    "myIterate f x = x : myIterate f (f x)\n",
    "\n",
    "--\n",
    "\n",
    "take 10 (iterate (2*) 1)\n",
    "take 10 (myIterate (2*) 1)"
   ]
  },
  {
   "cell_type": "markdown",
   "metadata": {},
   "source": [
    "2) Write the function `myUnfoldr` using direct recursion. Compare with the built-in `unfoldr` to check your implementa-tion. Again, don’t look at implementations of `unfoldr` so that you figure it out yourself."
   ]
  },
  {
   "cell_type": "code",
   "execution_count": null,
   "metadata": {},
   "outputs": [],
   "source": [
    "import Data.List\n",
    "\n",
    "myUnfoldr :: (b -> Maybe (a, b)) -> b -> [a]\n",
    "myUnfoldr f x =\n",
    "    case f x of\n",
    "        Nothing     -> []\n",
    "        Just (a, b) -> a : myUnfoldr f b\n",
    "\n",
    "--\n",
    "\n",
    "joker :: Integer -> Maybe (Integer, Integer)\n",
    "joker x\n",
    "    | x == 0    = Nothing\n",
    "    | otherwise = Just (x, x -1)\n",
    "\n",
    "unfoldr joker 10\n",
    "myUnfoldr joker 10"
   ]
  },
  {
   "cell_type": "markdown",
   "metadata": {},
   "source": [
    "3) Rewrite `myIterate` into `betterIterate` using `myUnfoldr`.\n",
    "\n",
    "__Hint__: We used `unfoldr` to produce the same results as `iterate` earlier. Do this with diﬀerent functions and see if you can abstract the structure out.\n",
    "\n",
    "```haskell\n",
    "myUnfoldr :: (b -> Maybe (a, b)) -> b -> [a]\n",
    "```"
   ]
  },
  {
   "cell_type": "code",
   "execution_count": null,
   "metadata": {},
   "outputs": [],
   "source": [
    "betterIterate :: (a -> a) -> a -> [a]\n",
    "betterIterate f x = myUnfoldr g x\n",
    "    where g y = Just (y, f y)\n",
    "\n",
    "--\n",
    "\n",
    "take 10 (iterate (2*) 1)\n",
    "take 10 (betterIterate (2*) 1)"
   ]
  },
  {
   "cell_type": "markdown",
   "metadata": {},
   "source": [
    "## BinaryTree\n",
    "\n",
    "1) Write `unfold` for `BinaryTree`.  \n",
    "2) Make a tree builder using the `unfold` function above."
   ]
  },
  {
   "cell_type": "code",
   "execution_count": null,
   "metadata": {},
   "outputs": [],
   "source": [
    "data BinaryTree a =\n",
    "    Leaf\n",
    "    | Node (BinaryTree a) a (BinaryTree a)\n",
    "    deriving (Eq, Ord, Show)\n",
    "\n",
    "unfold :: (a -> Maybe (a,b,a)) -> a -> BinaryTree b\n",
    "unfold f x =\n",
    "    case f x of\n",
    "        Nothing        -> Leaf\n",
    "        Just (x, y, z) -> Node (unfold f x) y (unfold f z)\n",
    "\n",
    "treeBuild :: Integer -> BinaryTree Integer\n",
    "treeBuild n = unfold f 0\n",
    "    where f x\n",
    "            | x == n    = Nothing\n",
    "            | otherwise = Just (x + 1, x, x + 1)\n",
    "\n",
    "--\n",
    "\n",
    "treeBuild 0\n",
    "treeBuild 1\n",
    "treeBuild 2\n",
    "treeBuild 3"
   ]
  }
 ],
 "metadata": {
  "celltoolbar": "Raw Cell Format",
  "kernelspec": {
   "display_name": "Haskell",
   "language": "haskell",
   "name": "haskell"
  },
  "language_info": {
   "codemirror_mode": "ihaskell",
   "file_extension": ".hs",
   "name": "haskell",
   "version": "8.0.2"
  }
 },
 "nbformat": 4,
 "nbformat_minor": 2
}
