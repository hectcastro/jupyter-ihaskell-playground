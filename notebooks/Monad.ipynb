{
 "cells": [
  {
   "cell_type": "markdown",
   "metadata": {},
   "source": [
    "## Example of the List `Monad` in use"
   ]
  },
  {
   "cell_type": "code",
   "execution_count": 1,
   "metadata": {},
   "outputs": [
    {
     "data": {
      "text/plain": [
       "[1,4,4,9]"
      ]
     },
     "metadata": {},
     "output_type": "display_data"
    },
    {
     "data": {
      "text/plain": [
       "[4,4]"
      ]
     },
     "metadata": {},
     "output_type": "display_data"
    }
   ],
   "source": [
    "twiceWhenEven :: [Integer] -> [Integer]\n",
    "twiceWhenEven xs = do\n",
    "    x <- xs\n",
    "    if even x\n",
    "        then [x*x, x*x]\n",
    "        else [x*x]\n",
    "        \n",
    "twiceWhenEven [1..3]\n",
    "\n",
    "--\n",
    "\n",
    "twiceWhenEven' :: [Integer] -> [Integer]\n",
    "twiceWhenEven' xs = do\n",
    "    x <- xs\n",
    "    if even x\n",
    "        then [x*x, x*x]\n",
    "        else []\n",
    "        \n",
    "twiceWhenEven' [1..3]"
   ]
  },
  {
   "cell_type": "markdown",
   "metadata": {},
   "source": [
    "## Exercise: Either Monad\n",
    "\n",
    "Implement the `Either` `Monad`."
   ]
  },
  {
   "cell_type": "code",
   "execution_count": 2,
   "metadata": {},
   "outputs": [],
   "source": [
    "data Sum a b =\n",
    "    First a\n",
    "    | Second b\n",
    "    deriving (Eq, Show)\n",
    "\n",
    "instance Functor (Sum a) where\n",
    "    fmap f (First x)  = First x\n",
    "    fmap f (Second y) = Second (f y)\n",
    "\n",
    "instance Applicative (Sum a) where\n",
    "    pure x = Second x\n",
    "    \n",
    "    (<*>) _ (First x)           = First x\n",
    "    (<*>) (First x) _           = First x\n",
    "    (<*>) (Second f) (Second y) = Second (f y)\n",
    "\n",
    "instance Monad (Sum a) where\n",
    "    return = pure\n",
    "    \n",
    "    (>>=) (First x) _  = First x\n",
    "    (>>=) (Second y) f = f y"
   ]
  },
  {
   "cell_type": "markdown",
   "metadata": {},
   "source": [
    "## Chapter Exercises\n",
    "\n",
    "Write `Monad` instances for the following types. Use the `QuickCheck` properties we showed you to validate your instances."
   ]
  },
  {
   "cell_type": "code",
   "execution_count": 3,
   "metadata": {},
   "outputs": [],
   "source": [
    "import Test.QuickCheck\n",
    "import Test.QuickCheck.Checkers\n",
    "import Test.QuickCheck.Classes\n",
    "\n",
    "-- 1.\n",
    "\n",
    "data Nope a =\n",
    "    NopeDotJpg\n",
    "    deriving (Eq, Show)\n",
    "    \n",
    "instance Functor Nope where\n",
    "    fmap _ NopeDotJpg = NopeDotJpg\n",
    "    \n",
    "instance Applicative Nope where\n",
    "    pure _ = NopeDotJpg\n",
    "    \n",
    "    NopeDotJpg <*> NopeDotJpg = NopeDotJpg\n",
    "    \n",
    "instance Monad Nope where\n",
    "    NopeDotJpg >>= _ = NopeDotJpg"
   ]
  },
  {
   "cell_type": "code",
   "execution_count": 27,
   "metadata": {},
   "outputs": [
    {
     "data": {
      "text/plain": [
       "\n",
       "functor:\n",
       "  identity: +++ OK, passed 500 tests.\n",
       "  compose:  +++ OK, passed 500 tests."
      ]
     },
     "metadata": {},
     "output_type": "display_data"
    },
    {
     "data": {
      "text/plain": [
       "\n",
       "applicative:\n",
       "  identity:     +++ OK, passed 500 tests.\n",
       "  composition:  +++ OK, passed 500 tests.\n",
       "  homomorphism: +++ OK, passed 500 tests.\n",
       "  interchange:  +++ OK, passed 500 tests.\n",
       "  functor:      +++ OK, passed 500 tests."
      ]
     },
     "metadata": {},
     "output_type": "display_data"
    }
   ],
   "source": [
    "-- 2.\n",
    "\n",
    "import Prelude hiding (Left, Right)\n",
    "\n",
    "data PhhhbbtttEither b a =\n",
    "    Left a\n",
    "    | Right b\n",
    "    deriving (Eq, Show)\n",
    "    \n",
    "instance Functor (PhhhbbtttEither b) where\n",
    "    fmap f (Left a)   = Left (f a)\n",
    "    fmap _ (Right b)  = Right b\n",
    "\n",
    "instance Monoid b => Applicative (PhhhbbtttEither b) where\n",
    "  pure = Left\n",
    "  \n",
    "  Left f <*> Left a    = Left (f a)\n",
    "  Right b <*> Right b' = Right (b `mappend` b')\n",
    "  Right b <*> _        = Right b\n",
    "  _ <*> Right b        = Right b\n",
    "    \n",
    "instance (Arbitrary a, Arbitrary b) => Arbitrary (PhhhbbtttEither a b) where\n",
    "  arbitrary = do\n",
    "    a <- arbitrary\n",
    "    b <- arbitrary\n",
    "    elements [Left a, Right b]\n",
    "    \n",
    "instance (Eq a, Eq b) => EqProp (PhhhbbtttEither b a) where\n",
    "  (=-=) = eq\n",
    "\n",
    "--\n",
    "\n",
    "let trigger = undefined :: PhhhbbtttEither String (String, String, String)\n",
    "quickBatch $ functor trigger\n",
    "quickBatch $ applicative trigger"
   ]
  },
  {
   "cell_type": "code",
   "execution_count": 28,
   "metadata": {},
   "outputs": [
    {
     "data": {
      "text/plain": [
       "\n",
       "functor:\n",
       "  identity: +++ OK, passed 500 tests.\n",
       "  compose:  +++ OK, passed 500 tests."
      ]
     },
     "metadata": {},
     "output_type": "display_data"
    },
    {
     "data": {
      "text/plain": [
       "\n",
       "applicative:\n",
       "  identity:     +++ OK, passed 500 tests.\n",
       "  composition:  +++ OK, passed 500 tests.\n",
       "  homomorphism: +++ OK, passed 500 tests.\n",
       "  interchange:  +++ OK, passed 500 tests.\n",
       "  functor:      +++ OK, passed 500 tests."
      ]
     },
     "metadata": {},
     "output_type": "display_data"
    },
    {
     "data": {
      "text/plain": [
       "\n",
       "monad laws:\n",
       "  left  identity: +++ OK, passed 500 tests.\n",
       "  right identity: +++ OK, passed 500 tests.\n",
       "  associativity:  +++ OK, passed 500 tests."
      ]
     },
     "metadata": {},
     "output_type": "display_data"
    }
   ],
   "source": [
    "-- 3.\n",
    "\n",
    "newtype Identity a =\n",
    "    Identity a\n",
    "    deriving (Eq, Ord, Show)\n",
    "\n",
    "instance Functor Identity where\n",
    "    fmap f (Identity a) = Identity (f a)\n",
    "\n",
    "instance Applicative Identity where\n",
    "    pure = Identity\n",
    "    \n",
    "    Identity f <*> Identity x = Identity (f x)\n",
    "\n",
    "instance Monad Identity where\n",
    "    return = pure\n",
    "    \n",
    "    Identity x >>= f = f x\n",
    "    \n",
    "instance Arbitrary a => Arbitrary (Identity a) where\n",
    "  arbitrary = do\n",
    "    a <- arbitrary\n",
    "    return $ Identity a\n",
    "    \n",
    "instance (Eq a) => EqProp (Identity a) where\n",
    "  (=-=) = eq\n",
    "    \n",
    "--\n",
    "\n",
    "let trigger = undefined :: Identity (String, Int, String)\n",
    "quickBatch $ functor trigger\n",
    "quickBatch $ applicative trigger\n",
    "quickBatch $ monad trigger"
   ]
  },
  {
   "cell_type": "markdown",
   "metadata": {},
   "source": [
    "Write the following functions using the methods provided by `Monad` and `Functor`. Using stuﬀ like identity and composition is fine, but it has to typecheck with types provided."
   ]
  },
  {
   "cell_type": "code",
   "execution_count": 50,
   "metadata": {},
   "outputs": [
    {
     "data": {
      "text/plain": [
       "[1,2,3]"
      ]
     },
     "metadata": {},
     "output_type": "display_data"
    }
   ],
   "source": [
    "-- 1.\n",
    "\n",
    "j :: Monad m => m (m a) -> m a\n",
    "j = (>>= id)\n",
    "\n",
    "j [[1, 2], [], [3]]\n",
    "\n",
    "-- 2.\n",
    "\n",
    "l1 :: Monad m => (a -> b) -> m a -> m b\n",
    "l1 = fmap\n",
    "\n",
    "--3.\n",
    "\n",
    "l2 :: Monad m => (a -> b -> c) -> m a -> m b -> m c\n",
    "l2 = liftM2\n",
    "\n",
    "-- 4.\n",
    "\n",
    "a :: Monad m => m a -> m (a -> b) -> m b\n",
    "a ma mf = mf <*> ma\n",
    "\n",
    "-- 5.\n",
    "\n",
    "meh :: Monad m => [a] -> (a -> m b) -> m [b]\n",
    "meh [] _     = return []\n",
    "meh (x:xs) f = liftM2 (:) (f x) (meh xs f)\n",
    "\n",
    "--6.\n",
    "\n",
    "flipType :: Monad m => [m a] -> m [a]\n",
    "flipType xs = meh xs id"
   ]
  }
 ],
 "metadata": {
  "kernelspec": {
   "display_name": "Haskell",
   "language": "haskell",
   "name": "haskell"
  },
  "language_info": {
   "codemirror_mode": "ihaskell",
   "file_extension": ".hs",
   "name": "haskell",
   "version": "8.0.2"
  }
 },
 "nbformat": 4,
 "nbformat_minor": 2
}
