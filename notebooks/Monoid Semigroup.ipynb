{
 "cells": [
  {
   "cell_type": "markdown",
   "metadata": {},
   "source": [
    "## Exercise: Optional Monoid\n",
    "\n",
    "Write the `Monoid` instance for our `Maybe` type renamed to `Optional`."
   ]
  },
  {
   "cell_type": "code",
   "execution_count": 12,
   "metadata": {},
   "outputs": [
    {
     "data": {
      "text/plain": [
       "Only (Sum {getSum = 2})"
      ]
     },
     "metadata": {},
     "output_type": "display_data"
    },
    {
     "data": {
      "text/plain": [
       "Only (Product {getProduct = 8})"
      ]
     },
     "metadata": {},
     "output_type": "display_data"
    },
    {
     "data": {
      "text/plain": [
       "Only (Sum {getSum = 1})"
      ]
     },
     "metadata": {},
     "output_type": "display_data"
    },
    {
     "data": {
      "text/plain": [
       "Only [1]"
      ]
     },
     "metadata": {},
     "output_type": "display_data"
    },
    {
     "data": {
      "text/plain": [
       "Only (Sum {getSum = 1})"
      ]
     },
     "metadata": {},
     "output_type": "display_data"
    }
   ],
   "source": [
    "import Data.Monoid\n",
    "\n",
    "data Optional a =\n",
    "    Nada\n",
    "    | Only a\n",
    "    deriving (Eq, Show)\n",
    "\n",
    "instance Monoid a => Monoid (Optional a) where\n",
    "    mempty  = Nada\n",
    "    \n",
    "    mappend Nada Nada         = Nada\n",
    "    mappend Nada (Only x)     = Only x\n",
    "    mappend (Only x) Nada     = Only x\n",
    "    mappend (Only x) (Only y) = Only (x <> y)\n",
    "    \n",
    "--\n",
    "\n",
    "Only (Sum 1) `mappend` Only (Sum 1)\n",
    "Only (Product 4) `mappend` Only (Product 2)\n",
    "Only (Sum 1) `mappend` Nada\n",
    "Only [1] `mappend` Nada\n",
    "Nada `mappend` Only (Sum 1)"
   ]
  },
  {
   "cell_type": "markdown",
   "metadata": {},
   "source": [
    "## Exercise: Madness"
   ]
  },
  {
   "cell_type": "code",
   "execution_count": 11,
   "metadata": {},
   "outputs": [
    {
     "data": {
      "text/plain": [
       "\"Yo! he said loudly as he jumped into his car Renee and drove off with his unique wife.\""
      ]
     },
     "metadata": {},
     "output_type": "display_data"
    },
    {
     "data": {
      "text/plain": [
       "\"Yo! he said loudly as he jumped into his car Renee and drove off with his unique wife.\""
      ]
     },
     "metadata": {},
     "output_type": "display_data"
    }
   ],
   "source": [
    "import Data.Monoid\n",
    "\n",
    "type Verb = String\n",
    "type Adjective = String\n",
    "type Adverb = String\n",
    "type Noun = String\n",
    "type Exclamation = String\n",
    "\n",
    "madlibbin' :: Exclamation -> Adverb -> Noun -> Adjective -> String\n",
    "madlibbin' e adv noun adj =\n",
    "    e <> \"! he said \" <>\n",
    "    adv <> \" as he jumped into his car \" <>\n",
    "    noun <> \" and drove off with his \" <>\n",
    "    adj <> \" wife.\"\n",
    "    \n",
    "madlibbinBetter' :: Exclamation -> Adverb -> Noun -> Adjective -> String\n",
    "madlibbinBetter' e adv noun adj =\n",
    "    mconcat [\n",
    "        e\n",
    "        , \"! he said \"\n",
    "        , adv\n",
    "        , \" as he jumped into his car \"\n",
    "        , noun\n",
    "        , \" and drove off with his \"\n",
    "        , adj\n",
    "        , \" wife.\"\n",
    "     ]\n",
    "\n",
    "--\n",
    "\n",
    "madlibbin' \"Yo\" \"loudly\" \"Renee\" \"unique\"\n",
    "madlibbinBetter' \"Yo\" \"loudly\" \"Renee\" \"unique\""
   ]
  },
  {
   "cell_type": "markdown",
   "metadata": {},
   "source": [
    "## Exercise: Maybe Another Monoid\n",
    "\n",
    "Write a `Monoid` instance for a `Maybe` type which doesn’t require a `Monoid` for the contents. Reuse the `Monoid` law QuickCheck properties and use them to validate the instance.\n",
    "\n",
    "Don’t forget to write an `Arbitrary` instance for `First'`. We won’t always stub that out explicitly for you. We suggest learning how to use the `frequency` function from QuickCheck for `First'`’s instance."
   ]
  },
  {
   "cell_type": "code",
   "execution_count": 27,
   "metadata": {},
   "outputs": [
    {
     "data": {
      "text/plain": [
       "+++ OK, passed 100 tests."
      ]
     },
     "metadata": {},
     "output_type": "display_data"
    },
    {
     "data": {
      "text/plain": [
       "+++ OK, passed 100 tests."
      ]
     },
     "metadata": {},
     "output_type": "display_data"
    },
    {
     "data": {
      "text/plain": [
       "+++ OK, passed 100 tests."
      ]
     },
     "metadata": {},
     "output_type": "display_data"
    },
    {
     "data": {
      "text/plain": [
       "First' {getFirst' = Only 1}"
      ]
     },
     "metadata": {},
     "output_type": "display_data"
    },
    {
     "data": {
      "text/plain": [
       "First' {getFirst' = Nada}"
      ]
     },
     "metadata": {},
     "output_type": "display_data"
    },
    {
     "data": {
      "text/plain": [
       "First' {getFirst' = Only 2}"
      ]
     },
     "metadata": {},
     "output_type": "display_data"
    },
    {
     "data": {
      "text/plain": [
       "First' {getFirst' = Only 1}"
      ]
     },
     "metadata": {},
     "output_type": "display_data"
    }
   ],
   "source": [
    "import Data.Monoid\n",
    "import Test.QuickCheck\n",
    "\n",
    "newtype First' a =\n",
    "    First' { getFirst' :: Optional a }\n",
    "    deriving (Eq, Show)\n",
    "\n",
    "instance Arbitrary a => Arbitrary (First' a) where\n",
    "    arbitrary = do\n",
    "        x <- arbitrary\n",
    "        frequency [(3, return (First' (Only x)))\n",
    "                  ,(1, return (First' Nada)) ]\n",
    "\n",
    "instance Monoid (First' a) where\n",
    "    mempty = First' Nada\n",
    "    \n",
    "    mappend (First' Nada) f = f\n",
    "    mappend f (First' Nada) = f\n",
    "    mappend f _ = f\n",
    "\n",
    "firstMappend :: First' a -> First' a -> First' a\n",
    "firstMappend = mappend\n",
    "\n",
    "type FirstMappend = First' String -> First' String -> First' String -> Bool\n",
    "type FstId = First' String -> Bool\n",
    "\n",
    "--\n",
    "\n",
    "monoidAssoc :: (Eq m, Monoid m) => m -> m -> m -> Bool\n",
    "monoidAssoc a b c = (a <> (b <> c)) == ((a <> b) <> c)\n",
    "\n",
    "monoidLeftIdentity :: (Eq m, Monoid m) => m -> Bool\n",
    "monoidLeftIdentity a = (mempty <> a) == a\n",
    "\n",
    "monoidRightIdentity :: (Eq m, Monoid m) => m -> Bool\n",
    "monoidRightIdentity a = (a <> mempty) == a\n",
    "\n",
    "--\n",
    "\n",
    "quickCheck (monoidAssoc :: FirstMappend)\n",
    "quickCheck (monoidLeftIdentity :: FstId)\n",
    "quickCheck (monoidRightIdentity :: FstId)\n",
    "    \n",
    "First' (Only 1) `mappend` First' Nada\n",
    "First' Nada `mappend` First' Nada\n",
    "First' Nada `mappend` First' (Only 2)\n",
    "First' (Only 1) `mappend` First' (Only 2)"
   ]
  }
 ],
 "metadata": {
  "kernelspec": {
   "display_name": "Haskell",
   "language": "haskell",
   "name": "haskell"
  },
  "language_info": {
   "codemirror_mode": "ihaskell",
   "file_extension": ".hs",
   "name": "haskell",
   "version": "8.0.2"
  }
 },
 "nbformat": 4,
 "nbformat_minor": 2
}
