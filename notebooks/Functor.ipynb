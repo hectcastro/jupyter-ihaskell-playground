{
 "cells": [
  {
   "cell_type": "markdown",
   "metadata": {},
   "source": [
    "## Exercises: Heavy Lifting\n",
    "\n",
    "Add `fmap`, parentheses, and function composition to the expression as needed for the expression to typecheck and produce the expected result. It may not always need to go in the same place, so don’t get complacent."
   ]
  },
  {
   "cell_type": "code",
   "execution_count": 1,
   "metadata": {},
   "outputs": [
    {
     "data": {
      "text/plain": [
       "[2]"
      ]
     },
     "metadata": {},
     "output_type": "display_data"
    },
    {
     "data": {
      "text/plain": [
       "Just [\"Hi,lol\",\"Hellolol\"]"
      ]
     },
     "metadata": {},
     "output_type": "display_data"
    },
    {
     "data": {
      "text/plain": [
       "-2"
      ]
     },
     "metadata": {},
     "output_type": "display_data"
    },
    {
     "data": {
      "text/plain": [
       "\"1[0,1,2,3]\""
      ]
     },
     "metadata": {},
     "output_type": "display_data"
    },
    {
     "data": {
      "text/plain": [
       "3693"
      ]
     },
     "metadata": {},
     "output_type": "display_data"
    }
   ],
   "source": [
    "-- 1.\n",
    "a = fmap (+1) (read \"[1]\" :: [Int])\n",
    "a -- [2]\n",
    "\n",
    "-- 2.\n",
    "b = (fmap . fmap) (++ \"lol\") (Just [\"Hi,\", \"Hello\"])\n",
    "b -- Just [\"Hi,lol\",\"Hellolol\"]\n",
    "\n",
    "-- 3.\n",
    "c = fmap (*2) (\\x -> x - 2)\n",
    "c 1 -- -2\n",
    "\n",
    "-- 4.\n",
    "d =\n",
    "    fmap\n",
    "    ((return '1' ++) . show)\n",
    "    (\\x -> [x, 1..3])\n",
    "d 0 -- \"1[0,1,2,3]\"\n",
    "\n",
    "-- 5.\n",
    "e :: IO Integer\n",
    "e = let ioi = readIO \"1\" :: IO Integer\n",
    "        changed = fmap (read . (\"123\"++) . show) ioi\n",
    "    in fmap (*3) changed\n",
    "e -- 3693"
   ]
  },
  {
   "cell_type": "markdown",
   "metadata": {},
   "source": [
    "## Exercises: Instances of Func\n",
    "\n",
    "Implement `Functor` instances for the following datatypes. Use the `QuickCheck` properties we showed you to validate them."
   ]
  },
  {
   "cell_type": "code",
   "execution_count": 59,
   "metadata": {},
   "outputs": [
    {
     "data": {
      "text/plain": [
       "+++ OK, passed 100 tests."
      ]
     },
     "metadata": {},
     "output_type": "display_data"
    },
    {
     "data": {
      "text/plain": [
       "+++ OK, passed 100 tests."
      ]
     },
     "metadata": {},
     "output_type": "display_data"
    },
    {
     "data": {
      "text/plain": [
       "+++ OK, passed 100 tests."
      ]
     },
     "metadata": {},
     "output_type": "display_data"
    },
    {
     "data": {
      "text/plain": [
       "+++ OK, passed 100 tests."
      ]
     },
     "metadata": {},
     "output_type": "display_data"
    },
    {
     "data": {
      "text/plain": [
       "+++ OK, passed 100 tests."
      ]
     },
     "metadata": {},
     "output_type": "display_data"
    },
    {
     "data": {
      "text/plain": [
       "+++ OK, passed 100 tests."
      ]
     },
     "metadata": {},
     "output_type": "display_data"
    }
   ],
   "source": [
    "import Test.QuickCheck\n",
    "import Test.QuickCheck.Function\n",
    "\n",
    "--1.\n",
    "\n",
    "newtype Identity a =\n",
    "    Identity a\n",
    "    deriving (Eq, Show)\n",
    "\n",
    "instance Functor Identity where\n",
    "    fmap f (Identity a) = Identity (f a)\n",
    "\n",
    "instance Arbitrary a => Arbitrary (Identity a) where\n",
    "    arbitrary =\n",
    "        do  x <- arbitrary\n",
    "            return $ Identity x\n",
    "\n",
    "--2. data Pair a = Pair a a\n",
    "\n",
    "data Pair a =\n",
    "    Pair a a\n",
    "    deriving (Eq, Show)\n",
    "\n",
    "instance Functor Pair where\n",
    "    fmap f (Pair a b) = Pair (f a) (f b)\n",
    "\n",
    "instance Arbitrary a => Arbitrary (Pair a) where\n",
    "    arbitrary =\n",
    "        do  x <- arbitrary\n",
    "            y <- arbitrary\n",
    "            return $ Pair x y\n",
    "\n",
    "--3. data Two a b = Two a b\n",
    "\n",
    "data Two a b =\n",
    "    Two a b\n",
    "    deriving (Eq, Show)\n",
    "\n",
    "instance Functor (Two a) where\n",
    "    fmap f (Two a b) = Two a (f b)\n",
    "\n",
    "instance (Arbitrary a, Arbitrary b) => Arbitrary (Two a b) where\n",
    "    arbitrary =\n",
    "        do  x <- arbitrary\n",
    "            y <- arbitrary\n",
    "            return $ Two x y\n",
    "\n",
    "--4. data Three a b c = Three a b c\n",
    "--5. data Three' a b = Three' a b b\n",
    "--6. data Four a b c d = Four a b c d\n",
    "--7. data Four' a b = Four' a a a b\n",
    "--8. data Trivial = Trivial\n",
    "\n",
    "--\n",
    "\n",
    "functorIdentity :: (Functor f, Eq (f a)) => f a -> Bool\n",
    "functorIdentity f =\n",
    "    fmap id f == f\n",
    "\n",
    "functorCompose :: (Eq (f c), Functor f) => f a -> Fun a b -> Fun b c -> Bool\n",
    "functorCompose x (Fun _ f) (Fun _ g) =\n",
    "    (fmap (g . f) x) == (fmap g . fmap f $ x)\n",
    "\n",
    "--\n",
    "\n",
    "quickCheck (functorIdentity :: Identity String -> Bool)\n",
    "quickCheck (functorCompose :: Identity String -> Fun String Int -> Fun Int String -> Bool)\n",
    "quickCheck (functorIdentity :: Pair String -> Bool)\n",
    "quickCheck (functorCompose :: Pair String -> Fun String Int -> Fun Int String -> Bool)\n",
    "quickCheck (functorIdentity :: Two Char String -> Bool)\n",
    "quickCheck (functorCompose :: Two Char String -> Fun String Int -> Fun Int String -> Bool)"
   ]
  },
  {
   "cell_type": "markdown",
   "metadata": {},
   "source": [
    "## Exercise: Possibly & Sum\n",
    "\n",
    "1. Write a `Functor` instance for a datatype identical to `Maybe`. We’ll use our own datatype because `Maybe` already has a `Functor` instance and we cannot make a duplicate one.\n",
    "\n",
    "2. Write a `Functor` instance for a datatype identical to `Either`. We’ll use our own datatype because `Either` has a `Functor` instance.\n",
    "\n",
    "3. Why is a `Functor` instance that applies the function only to First, `Either`’s `Left`, impossible? We covered this earlier."
   ]
  },
  {
   "cell_type": "code",
   "execution_count": 5,
   "metadata": {},
   "outputs": [
    {
     "data": {
      "text/plain": [
       "LolNope"
      ]
     },
     "metadata": {},
     "output_type": "display_data"
    },
    {
     "data": {
      "text/plain": [
       "Yeppers 2"
      ]
     },
     "metadata": {},
     "output_type": "display_data"
    }
   ],
   "source": [
    "data Possibly a =\n",
    "    LolNope\n",
    "    | Yeppers a\n",
    "    deriving (Eq, Show)\n",
    "\n",
    "instance Functor Possibly where\n",
    "    fmap _ LolNope     = LolNope\n",
    "    fmap f (Yeppers a) = Yeppers (f a)\n",
    "    \n",
    "--\n",
    "\n",
    "fmap (+1) LolNope\n",
    "fmap (+1) (Yeppers 1)"
   ]
  },
  {
   "cell_type": "code",
   "execution_count": 8,
   "metadata": {},
   "outputs": [
    {
     "data": {
      "text/plain": [
       "First \"blah\""
      ]
     },
     "metadata": {},
     "output_type": "display_data"
    },
    {
     "data": {
      "text/plain": [
       "Second 2"
      ]
     },
     "metadata": {},
     "output_type": "display_data"
    }
   ],
   "source": [
    "data Sum a b =\n",
    "    First a\n",
    "    | Second b\n",
    "    deriving (Eq, Show)\n",
    "\n",
    "instance Functor (Sum a) where\n",
    "    fmap _ (First a) = First a\n",
    "    fmap f(Second a) = Second (f a)\n",
    "\n",
    "--\n",
    "\n",
    "fmap (+1) (First \"blah\")\n",
    "fmap (+1) (Second 1)"
   ]
  },
  {
   "cell_type": "markdown",
   "metadata": {},
   "source": [
    "## Chapter Exercises\n",
    "\n",
    "Determine if a valid `Functor` can be written for the datatype provided."
   ]
  },
  {
   "cell_type": "code",
   "execution_count": null,
   "metadata": {},
   "outputs": [],
   "source": [
    "-- 1. No, kind *\n",
    "\n",
    "data Bool =\n",
    "    False\n",
    "    | True\n",
    "    \n",
    "-- 2. Yes, kind * -> *\n",
    "\n",
    "data BoolAndSomethingElse a =\n",
    "    False' a\n",
    "    | True' a\n",
    "\n",
    "-- 3. Yes, kind * -> *\n",
    "\n",
    "data BoolAndMaybeSomethingElse a =\n",
    "    Falsish\n",
    "    | Truish a\n",
    "\n",
    "-- 4. Yes, kind * -> *\n",
    "\n",
    "newtype Mu f =\n",
    "    InF { outF :: f (Mu f) }\n",
    "\n",
    "-- 5. No, kind is *\n",
    "\n",
    "import GHC.Arr\n",
    "\n",
    "data D =\n",
    "    D (Array Word Word) Int Int"
   ]
  },
  {
   "cell_type": "markdown",
   "metadata": {},
   "source": [
    "Rearrange the arguments to the type constructor of the datatype so the `Functor` instance works."
   ]
  },
  {
   "cell_type": "code",
   "execution_count": 30,
   "metadata": {},
   "outputs": [
    {
     "data": {
      "text/plain": [
       "First 2"
      ]
     },
     "metadata": {},
     "output_type": "display_data"
    },
    {
     "data": {
      "text/plain": [
       "Second 1"
      ]
     },
     "metadata": {},
     "output_type": "display_data"
    },
    {
     "data": {
      "text/plain": [
       "DeepBlue 1 2"
      ]
     },
     "metadata": {},
     "output_type": "display_data"
    },
    {
     "data": {
      "text/plain": [
       "Something 2"
      ]
     },
     "metadata": {},
     "output_type": "display_data"
    },
    {
     "data": {
      "text/plain": [
       "L 2 2 4"
      ]
     },
     "metadata": {},
     "output_type": "display_data"
    },
    {
     "data": {
      "text/plain": [
       "R 1 3 3"
      ]
     },
     "metadata": {},
     "output_type": "display_data"
    }
   ],
   "source": [
    "-- 1.\n",
    "\n",
    "data Sum b a =\n",
    "    First a\n",
    "    | Second b\n",
    "    deriving (Eq, Show)\n",
    "\n",
    "instance Functor (Sum e) where\n",
    "    fmap f (First a)  = First (f a)\n",
    "    fmap f (Second b) = Second b\n",
    "    \n",
    "--\n",
    "\n",
    "fmap (+1) (First 1)\n",
    "fmap (+1) (Second 1)\n",
    "\n",
    "-- 2.\n",
    "\n",
    "data Company a c b =\n",
    "    DeepBlue a c\n",
    "    | Something b\n",
    "    deriving (Eq, Show)\n",
    "\n",
    "instance Functor (Company e e') where\n",
    "    fmap f (Something b)  = Something (f b)\n",
    "    fmap _ (DeepBlue a c) = DeepBlue a c\n",
    "    \n",
    "--\n",
    "    \n",
    "fmap (+1) (DeepBlue 1 2)\n",
    "fmap (+1) (Something 1)\n",
    "\n",
    "-- 3.\n",
    "\n",
    "data More b a =\n",
    "    L a b a\n",
    "    | R b a b\n",
    "    deriving (Eq, Show)\n",
    "\n",
    "instance Functor (More x) where\n",
    "    fmap f (L a b a') =\n",
    "        L (f a) b (f a')\n",
    "    fmap f (R b a b') =\n",
    "        R b (f a) b'\n",
    "\n",
    "--\n",
    "\n",
    "fmap (+1) (L 1 2 3)\n",
    "fmap (+1) (R 1 2 3)"
   ]
  },
  {
   "cell_type": "code",
   "execution_count": 42,
   "metadata": {},
   "outputs": [],
   "source": [
    "{-# LANGUAGE FlexibleInstances #-}\n",
    "\n",
    "-- 1.\n",
    "\n",
    "data Quant a b =\n",
    "    Finance\n",
    "    | Desk a\n",
    "    | Bloor b\n",
    "    deriving (Eq, Show)\n",
    "\n",
    "instance Functor (Quant a) where\n",
    "    fmap f Finance   = Finance\n",
    "    fmap f (Desk a)  = Desk a\n",
    "    fmap f (Bloor b) = Bloor (f b)\n",
    "    \n",
    "-- 2.\n",
    "\n",
    "data K a b =\n",
    "    K a\n",
    "    deriving (Eq, Show)\n",
    "\n",
    "instance Functor (K a) where\n",
    "    fmap f (K a) = K a\n",
    "    \n",
    "-- 3.\n",
    "\n",
    "newtype Flip f a b =\n",
    "    Flip (f b a)\n",
    "    deriving (Eq, Show)\n",
    "\n",
    "newtype K' a b =\n",
    "    K' a\n",
    "    deriving (Eq, Show)\n",
    "\n",
    "instance Functor (Flip K' a) where\n",
    "    fmap f (Flip (K' a)) = Flip $ K' (f a)\n",
    "    \n",
    "-- 4.\n",
    "\n",
    "data EvilGoateeConst a b =\n",
    "    GoatyConst b\n",
    "    deriving (Eq, Show)\n",
    "\n",
    "instance Functor (EvilGoateeConst a) where\n",
    "    fmap f (GoatyConst b) = GoatyConst (f b)\n",
    "    \n",
    "-- 5.\n",
    "\n",
    "data LiftItOut f a =\n",
    "    LiftItOut (f a)\n",
    "    deriving (Eq, Show)\n",
    "\n",
    "instance Functor f => Functor (LiftItOut f) where\n",
    "    fmap f (LiftItOut fa) = LiftItOut (fmap f fa)\n",
    "    \n",
    "-- 6.\n",
    "\n",
    "data Parappa f g a =\n",
    "    DaWrappa (f a) (g a)\n",
    "    deriving (Eq, Show)\n",
    "\n",
    "instance (Functor f, Functor g) => Functor (Parappa f g) where\n",
    "    fmap f (DaWrappa fa ga) =\n",
    "        DaWrappa (fmap f fa) (fmap f ga)\n",
    "\n",
    "-- 7.\n",
    "\n",
    "data IgnoreOne f g a b =\n",
    "    IgnoreSomething (f a) (g b)\n",
    "    deriving (Eq, Show)\n",
    "\n",
    "instance Functor g => Functor (IgnoreOne f g a) where\n",
    "    fmap f (IgnoreSomething a ga) =\n",
    "        IgnoreSomething a (fmap f ga)\n",
    "        \n",
    "-- 8.\n",
    "\n",
    "data Notorious g o a t =\n",
    "    Notorious (g o) (g a) (g t)\n",
    "    deriving (Eq, Show)\n",
    "\n",
    "instance Functor g => Functor (Notorious g o a) where\n",
    "    fmap f (Notorious o a gt) =\n",
    "        Notorious o a (fmap f gt)\n",
    "        \n",
    "-- 9.\n",
    "\n",
    "data List a =\n",
    "    Nil\n",
    "    | Cons a (List a)\n",
    "    deriving (Eq, Show)\n",
    "\n",
    "instance Functor List where\n",
    "    fmap f Nil        = Nil\n",
    "    fmap f (Cons a xs) =\n",
    "        Cons (f a) (fmap f xs)\n",
    "        \n",
    "-- 10.\n",
    "\n",
    "data GoatLord a =\n",
    "    NoGoat\n",
    "    | OneGoat a\n",
    "    | MoreGoats (GoatLord a) (GoatLord a) (GoatLord a)\n",
    "    deriving (Eq, Show)\n",
    "\n",
    "instance Functor GoatLord where\n",
    "    fmap f NoGoat            = NoGoat\n",
    "    fmap f (OneGoat a)       = OneGoat (f a)\n",
    "    fmap f (MoreGoats x y z) =\n",
    "        MoreGoats (fmap f x) (fmap f y) (fmap f z)"
   ]
  }
 ],
 "metadata": {
  "kernelspec": {
   "display_name": "Haskell",
   "language": "haskell",
   "name": "haskell"
  },
  "language_info": {
   "codemirror_mode": "ihaskell",
   "file_extension": ".hs",
   "name": "haskell",
   "version": "8.0.2"
  }
 },
 "nbformat": 4,
 "nbformat_minor": 2
}
